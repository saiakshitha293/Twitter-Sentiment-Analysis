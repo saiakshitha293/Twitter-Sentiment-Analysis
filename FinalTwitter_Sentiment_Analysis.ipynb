{
  "cells": [
    {
      "cell_type": "code",
      "execution_count": 3,
      "metadata": {
        "colab": {
          "base_uri": "https://localhost:8080/"
        },
        "id": "lNxJfjPCLO-T",
        "outputId": "7d324b1e-8a25-4d20-9e76-96c5ba585a37"
      },
      "outputs": [
        {
          "ename": "ModuleNotFoundError",
          "evalue": "No module named 'google'",
          "output_type": "error",
          "traceback": [
            "\u001b[1;31m---------------------------------------------------------------------------\u001b[0m",
            "\u001b[1;31mModuleNotFoundError\u001b[0m                       Traceback (most recent call last)",
            "Cell \u001b[1;32mIn[3], line 2\u001b[0m\n\u001b[0;32m      1\u001b[0m \u001b[39m#mount the google drive to colab notebook for getting data\u001b[39;00m\n\u001b[1;32m----> 2\u001b[0m \u001b[39mfrom\u001b[39;00m \u001b[39mgoogle\u001b[39;00m\u001b[39m.\u001b[39;00m\u001b[39mcolab\u001b[39;00m \u001b[39mimport\u001b[39;00m drive\n\u001b[0;32m      4\u001b[0m drive\u001b[39m.\u001b[39mmount(\u001b[39m'\u001b[39m\u001b[39m/content/drive\u001b[39m\u001b[39m'\u001b[39m)\n",
            "\u001b[1;31mModuleNotFoundError\u001b[0m: No module named 'google'"
          ]
        }
      ],
      "source": [
        "#mount the google drive to colab notebook for getting data\n",
        "from google.colab import drive\n",
        " \n",
        "drive.mount('/content/drive')"
      ]
    },
    {
      "cell_type": "code",
      "execution_count": null,
      "metadata": {
        "colab": {
          "base_uri": "https://localhost:8080/"
        },
        "id": "vclrTo1rLV0t",
        "outputId": "f1f56ce2-b881-4a97-a8bf-c3db5dd0969d"
      },
      "outputs": [
        {
          "name": "stdout",
          "output_type": "stream",
          "text": [
            "'/content/drive/My Drive/Colab Notebooks/twitter.properties'\n"
          ]
        }
      ],
      "source": [
        "#check the properties file whether it is placed in drive or not\n",
        "!ls '/content/drive/My Drive/Colab Notebooks/twitter.properties'"
      ]
    },
    {
      "cell_type": "code",
      "execution_count": 4,
      "metadata": {
        "colab": {
          "base_uri": "https://localhost:8080/"
        },
        "id": "6wF2auF-MpVp",
        "outputId": "d74bb085-7e64-4399-c458-2b38ed752f31"
      },
      "outputs": [
        {
          "name": "stdout",
          "output_type": "stream",
          "text": [
            "Collecting ConfigParser\n",
            "  Downloading configparser-5.3.0-py3-none-any.whl (19 kB)\n",
            "Installing collected packages: ConfigParser\n",
            "Successfully installed ConfigParser-5.3.0\n"
          ]
        },
        {
          "name": "stderr",
          "output_type": "stream",
          "text": [
            "WARNING: You are using pip version 22.0.4; however, version 22.3.1 is available.\n",
            "You should consider upgrading via the 'C:\\Users\\Sai Akshitha Gandham\\AppData\\Local\\Programs\\Python\\Python310\\python.exe -m pip install --upgrade pip' command.\n"
          ]
        }
      ],
      "source": [
        "#installing ConfigParser\n",
        "!pip install ConfigParser"
      ]
    },
    {
      "cell_type": "markdown",
      "metadata": {
        "id": "b-PiMClfrxDu"
      },
      "source": [
        "#this should be the format in twitter.properties file\n",
        "\n",
        "[twitter]\n",
        "accesstoken=xxxx\n",
        "\n",
        "accesstokensecret=xxxx\n",
        "\n",
        "apikey=xxxxxx\n",
        "\n",
        "apisecretkey=xxxxxx\n"
      ]
    },
    {
      "cell_type": "code",
      "execution_count": 5,
      "metadata": {
        "colab": {
          "base_uri": "https://localhost:8080/"
        },
        "id": "bUTImyaELjg1",
        "outputId": "f13bf645-3ede-48b2-9ca2-675bae3b8888"
      },
      "outputs": [
        {
          "name": "stdout",
          "output_type": "stream",
          "text": [
            "[]\n"
          ]
        }
      ],
      "source": [
        "#check whether our required file there or not\n",
        "import configparser\n",
        "config = configparser.RawConfigParser()\n",
        "config.read('/content/drive/My Drive/Colab Notebooks/twitter.properties')\n",
        "\n",
        "print(config.sections());"
      ]
    },
    {
      "cell_type": "code",
      "execution_count": 6,
      "metadata": {
        "id": "yPGz5MB-YrbM"
      },
      "outputs": [
        {
          "ename": "NoSectionError",
          "evalue": "No section: 'twitter'",
          "output_type": "error",
          "traceback": [
            "\u001b[1;31m---------------------------------------------------------------------------\u001b[0m",
            "\u001b[1;31mNoSectionError\u001b[0m                            Traceback (most recent call last)",
            "Cell \u001b[1;32mIn[6], line 2\u001b[0m\n\u001b[0;32m      1\u001b[0m \u001b[39m#getting the api keys through config\u001b[39;00m\n\u001b[1;32m----> 2\u001b[0m accesstoken\u001b[39m=\u001b[39mconfig\u001b[39m.\u001b[39;49mget(\u001b[39m'\u001b[39;49m\u001b[39mtwitter\u001b[39;49m\u001b[39m'\u001b[39;49m, \u001b[39m'\u001b[39;49m\u001b[39maccesstoken\u001b[39;49m\u001b[39m'\u001b[39;49m)\n\u001b[0;32m      3\u001b[0m accesstokensecret\u001b[39m=\u001b[39mconfig\u001b[39m.\u001b[39mget(\u001b[39m'\u001b[39m\u001b[39mtwitter\u001b[39m\u001b[39m'\u001b[39m, \u001b[39m'\u001b[39m\u001b[39maccesstokensecret\u001b[39m\u001b[39m'\u001b[39m)\n\u001b[0;32m      4\u001b[0m apikey\u001b[39m=\u001b[39mconfig\u001b[39m.\u001b[39mget(\u001b[39m'\u001b[39m\u001b[39mtwitter\u001b[39m\u001b[39m'\u001b[39m, \u001b[39m'\u001b[39m\u001b[39mapikey\u001b[39m\u001b[39m'\u001b[39m)\n",
            "File \u001b[1;32mc:\\Users\\Sai Akshitha Gandham\\AppData\\Local\\Programs\\Python\\Python310\\lib\\configparser.py:782\u001b[0m, in \u001b[0;36mRawConfigParser.get\u001b[1;34m(self, section, option, raw, vars, fallback)\u001b[0m\n\u001b[0;32m    767\u001b[0m \u001b[39m\"\"\"Get an option value for a given section.\u001b[39;00m\n\u001b[0;32m    768\u001b[0m \n\u001b[0;32m    769\u001b[0m \u001b[39mIf `vars' is provided, it must be a dictionary. The option is looked up\u001b[39;00m\n\u001b[1;32m   (...)\u001b[0m\n\u001b[0;32m    779\u001b[0m \u001b[39mThe section DEFAULT is special.\u001b[39;00m\n\u001b[0;32m    780\u001b[0m \u001b[39m\"\"\"\u001b[39;00m\n\u001b[0;32m    781\u001b[0m \u001b[39mtry\u001b[39;00m:\n\u001b[1;32m--> 782\u001b[0m     d \u001b[39m=\u001b[39m \u001b[39mself\u001b[39;49m\u001b[39m.\u001b[39;49m_unify_values(section, \u001b[39mvars\u001b[39;49m)\n\u001b[0;32m    783\u001b[0m \u001b[39mexcept\u001b[39;00m NoSectionError:\n\u001b[0;32m    784\u001b[0m     \u001b[39mif\u001b[39;00m fallback \u001b[39mis\u001b[39;00m _UNSET:\n",
            "File \u001b[1;32mc:\\Users\\Sai Akshitha Gandham\\AppData\\Local\\Programs\\Python\\Python310\\lib\\configparser.py:1153\u001b[0m, in \u001b[0;36mRawConfigParser._unify_values\u001b[1;34m(self, section, vars)\u001b[0m\n\u001b[0;32m   1151\u001b[0m \u001b[39mexcept\u001b[39;00m \u001b[39mKeyError\u001b[39;00m:\n\u001b[0;32m   1152\u001b[0m     \u001b[39mif\u001b[39;00m section \u001b[39m!=\u001b[39m \u001b[39mself\u001b[39m\u001b[39m.\u001b[39mdefault_section:\n\u001b[1;32m-> 1153\u001b[0m         \u001b[39mraise\u001b[39;00m NoSectionError(section) \u001b[39mfrom\u001b[39;00m \u001b[39mNone\u001b[39m\n\u001b[0;32m   1154\u001b[0m \u001b[39m# Update with the entry specific variables\u001b[39;00m\n\u001b[0;32m   1155\u001b[0m vardict \u001b[39m=\u001b[39m {}\n",
            "\u001b[1;31mNoSectionError\u001b[0m: No section: 'twitter'"
          ]
        }
      ],
      "source": [
        "#getting the api keys through config\n",
        "accesstoken=config.get('twitter', 'accesstoken')\n",
        "accesstokensecret=config.get('twitter', 'accesstokensecret')\n",
        "apikey=config.get('twitter', 'apikey')\n",
        "apisecretkey=config.get('twitter', 'apisecretkey')"
      ]
    },
    {
      "cell_type": "markdown",
      "metadata": {
        "id": "QotHt1W-YwR0"
      },
      "source": [
        "\n",
        "\n",
        "```\n",
        "# This is formatted as code\n",
        "```\n",
        "\n",
        "Above process is to use keys from drive securely"
      ]
    },
    {
      "cell_type": "code",
      "execution_count": null,
      "metadata": {
        "id": "Nip-OWuVXIty"
      },
      "outputs": [],
      "source": []
    },
    {
      "cell_type": "code",
      "execution_count": null,
      "metadata": {
        "id": "dSWzUx6JXIqd"
      },
      "outputs": [],
      "source": []
    },
    {
      "cell_type": "code",
      "execution_count": null,
      "metadata": {
        "id": "c0evKEkjXIZv"
      },
      "outputs": [],
      "source": []
    },
    {
      "cell_type": "code",
      "execution_count": null,
      "metadata": {
        "id": "nx_OnSfZXIWT"
      },
      "outputs": [],
      "source": []
    },
    {
      "cell_type": "code",
      "execution_count": null,
      "metadata": {
        "id": "Y7w3jSG7XISE"
      },
      "outputs": [],
      "source": []
    },
    {
      "cell_type": "code",
      "execution_count": null,
      "metadata": {
        "id": "wdhymAyWXIPG"
      },
      "outputs": [],
      "source": []
    },
    {
      "cell_type": "code",
      "execution_count": null,
      "metadata": {
        "id": "XQQ6r9VbXILm"
      },
      "outputs": [],
      "source": []
    },
    {
      "cell_type": "code",
      "execution_count": null,
      "metadata": {
        "id": "GmLfbJ9fXIIB"
      },
      "outputs": [],
      "source": []
    },
    {
      "cell_type": "code",
      "execution_count": null,
      "metadata": {
        "id": "TgHuOguMXIE6"
      },
      "outputs": [],
      "source": [
        "#simpler way to do this taks wihtout accessing the keys remotely"
      ]
    },
    {
      "cell_type": "code",
      "execution_count": null,
      "metadata": {
        "id": "T_h2rf6gMm39"
      },
      "outputs": [],
      "source": [
        "#importing required modules\n",
        "import os\n",
        "import tweepy as tw"
      ]
    },
    {
      "cell_type": "markdown",
      "metadata": {
        "id": "w7SsP54TeW99"
      },
      "source": [
        "#this should be the format \n",
        "\n",
        "accesstoken='xxxx'\n",
        "\n",
        "accesstokensecret='xxxx'\n",
        "\n",
        "apikey='xxxxxx'\n",
        "\n",
        "apisecretkey='xxxxxx'\n"
      ]
    },
    {
      "cell_type": "markdown",
      "metadata": {
        "id": "4pMVsjuJZsZe"
      },
      "source": [
        "in order to get keys we should create Dev account on twitter\n",
        "https://developer.twitter.com/en/apply-for-access\n"
      ]
    },
    {
      "cell_type": "code",
      "execution_count": null,
      "metadata": {
        "id": "w6Qdj6yPNds-"
      },
      "outputs": [],
      "source": [
        "   #making a connection\n",
        "auth = tw.OAuthHandler(apikey, apisecretkey)\n",
        "\n",
        "auth.set_access_token(accesstoken, accesstokensecret)\n",
        "\n",
        "api = tw.API(auth, wait_on_rate_limit=True)\n",
        "\n",
        "#https://developer.twitter.com/en/docs/twitter-api/v1/rate-limits\n",
        "#https://docs.tweepy.org/en/v3.5.0/api.html"
      ]
    },
    {
      "cell_type": "code",
      "execution_count": null,
      "metadata": {
        "id": "mX8wpgLrR5HU"
      },
      "outputs": [],
      "source": [
        "#place the hashtag  and date you want to know about the trend or sentiment\n",
        "search_words = \"#covid19\"\n",
        "date_since = \"2021-05-13\""
      ]
    },
    {
      "cell_type": "code",
      "execution_count": null,
      "metadata": {
        "id": "vAOlJY7aSfiT"
      },
      "outputs": [],
      "source": [
        "#getting 100 tweets per search\n",
        "tweets = tw.Cursor(api.search,\n",
        "              q=search_words,\n",
        "              lang=\"en\",\n",
        "              since=date_since).items(100)\n",
        "\n",
        "#https://docs.tweepy.org/en/v3.5.0/cursor_tutorial.html"
      ]
    },
    {
      "cell_type": "code",
      "execution_count": null,
      "metadata": {
        "colab": {
          "base_uri": "https://localhost:8080/"
        },
        "id": "9B2lDorXo_nO",
        "outputId": "16564cc4-4cb0-42ae-a716-8830c48bcd62"
      },
      "outputs": [
        {
          "data": {
            "text/plain": [
              "<tweepy.cursor.ItemIterator at 0x7f9cc88503d0>"
            ]
          },
          "execution_count": 7,
          "metadata": {
            "tags": []
          },
          "output_type": "execute_result"
        }
      ],
      "source": [
        "tweets"
      ]
    },
    {
      "cell_type": "code",
      "execution_count": null,
      "metadata": {
        "id": "sRwitVyKS7c2"
      },
      "outputs": [],
      "source": [
        "#getting only required cloumns for our need\n",
        "tweet_details = [[tweet.text, tweet.user.screen_name, tweet.user.location, tweet.source ] for tweet in tweets]\n",
        "#tweet_details , tweet.source ,\"Device\""
      ]
    },
    {
      "cell_type": "code",
      "execution_count": null,
      "metadata": {
        "colab": {
          "base_uri": "https://localhost:8080/"
        },
        "id": "4J-rZFVO8kU5",
        "outputId": "515a2ea0-2c91-4e49-fad2-8c5dd04efd65"
      },
      "outputs": [
        {
          "data": {
            "text/plain": [
              "[['RT @RadioChinar: Since childhood, we enthusiastically wait for #EidCelebrations and Eidi every year. But this year, amid #COVID19 for well…',\n",
              "  'RohitKu10100420',\n",
              "  '',\n",
              "  'Twitter for Android'],\n",
              " ['RT @khalsaaid_india: #InternationalNursesDay \\n\\nOur gesture of appreciation to our unsung heroes, our Nurses who are working mechanically da…',\n",
              "  'JASVIRS29320775',\n",
              "  '',\n",
              "  'Twitter for Android'],\n",
              " ['RT @LiceMovono: Fiji has had 165 cases, 109 recoveries and 4 deaths.  - Dr. @AalishaSahukhan #FijiNews #COVID19Fiji #COVID19',\n",
              "  'itsjustlido_xo',\n",
              "  '',\n",
              "  'Twitter for iPhone'],\n",
              " ['RT @YashhD_FC: Free Oxygen cylinder service for #COVID19 patients who cannot afford it.\\nWhatsApp: 9330058908\\n#COVIDEmergency #KolkataCovidR…',\n",
              "  'YashianBarnali',\n",
              "  'Tarakeswar, India',\n",
              "  'Twitter for Android'],\n",
              " [\"RT @HelenBranswell: 1. Interesting presentation to ACIP on cases of TTS following J&amp;J's #Covid19 vaccine. TTS = thrombosis with thrombocyto…\",\n",
              "  'Toetterbeck',\n",
              "  'After 40 years away now FRG',\n",
              "  'Twitter for iPhone'],\n",
              " ['RT @kayaldevaraj: Family of #ActorSivakumar @Suriya_offl @Karthi_Offl #Jyotika donated One Crore to the Tamilnadu Chief Minister’s Public R…',\n",
              "  'Aravind84349112',\n",
              "  'India',\n",
              "  'Twitter for Android'],\n",
              " ['RT @khushsundar: Wishing my favorite @tarak9999 a very speedy recovery from #Covid19 . Come back soon with more energy, more josh and take…',\n",
              "  'Ashwath65147204',\n",
              "  '',\n",
              "  'Twitter for Android'],\n",
              " ['RT @sri50: The #ICMR says due to spread of #COVID19, the “lockdown should be extended by six to eight weeks in all districts where the rate…',\n",
              "  'Nowshath_VJ',\n",
              "  '',\n",
              "  'Twitter for Android'],\n",
              " ['RT @PlanZimbabwe: #COVID19 is impacting the lives of girls and young women in a variety of different ways. Education, mental health, and li…',\n",
              "  'WomenEmpow',\n",
              "  'Bulawayo, Zimbabwe',\n",
              "  'Twitter for Android'],\n",
              " [\"@Prince_SA2021 This #Covid19 thing is like somebody who is putting poison to somebody's food, it's a man made disea… https://t.co/nRQi0QGRBX\",\n",
              "  'KhumbulaniMseb3',\n",
              "  '',\n",
              "  'Twitter for Android'],\n",
              " ['RT @revathitweets: “Situation Under Control”- trending phrase in #Telangana right now. May be it is true for these politicians!? All hungam…',\n",
              "  'krporeddy',\n",
              "  '',\n",
              "  'Twitter for Android'],\n",
              " ['@SachinKalbag @vimoh Right now anything that will bring cases down in India. Just tell him to inform the people not… https://t.co/ckwVau1bI2',\n",
              "  'aana_2210',\n",
              "  'India',\n",
              "  'Twitter for Android'],\n",
              " ['RT @hemantrajora_: Breaking : Admissions in 500 bedded ICU facility opposite GTB Hospital has started now.  15 patients have been admitted…',\n",
              "  'sohini_6',\n",
              "  'Kolkata, India',\n",
              "  'Twitter Web App'],\n",
              " ['RT @BhupalPsr: Wishing a happy Ramzan for all Muslim brothers and sisters \\n\\nCelebrate this Great Ramzan by staying at home with your family…',\n",
              "  'BhupalPsr',\n",
              "  '',\n",
              "  'Twitter for iPhone'],\n",
              " ['@iran_policy #Iran:#Covid19 Deaths&gt;286,200\\n#vaccines,https://t.co/6RBJjA3bcw .@WHO.@DrTedros.@ECDC_Outbreaks.@MSF.… https://t.co/OEqIRA5H1z',\n",
              "  'paydaran',\n",
              "  '',\n",
              "  'Twitter Web App'],\n",
              " ['RT @RapidResponse: We are fighting the pandemic with following interventions.\\n🚩Awareness Campaign on #COVID19 appropriate behavior \\n🚩Medica…',\n",
              "  'prameshjain12',\n",
              "  'proud Indian ',\n",
              "  'Twitter for Android'],\n",
              " ['RT @BloodDonorsIn: #Ghaziabad \\nNeed #Blood Type :  B-positive\\nAt : Anand Hospital \\nBlood Component : Need Plasma from #Covid19 recovered pa…',\n",
              "  'Sandeep_kamboz',\n",
              "  'Gurgaon, India',\n",
              "  'Twitter Web App'],\n",
              " [\"RT @Rishu32779817: In this pandemic situation no one want to get affected by #COVID19 .That's why we need to stop or cancel the Examination…\",\n",
              "  'Kuldeep11245085',\n",
              "  '',\n",
              "  'Twitter for Android'],\n",
              " ['RT @IndiaToday: Biggest hospital in #Etawah in shambles. No doctors, no sanitation workers, patients forced to defecate in open. | @PreetiC…',\n",
              "  'AbhiSinghINC',\n",
              "  'Ballia, India',\n",
              "  'Twitter for Android'],\n",
              " ['RT @Sandhwan: These r the ventilators fm #PMCaresFund lying unused in GGSMC Faridkot. @CMOPb pls make them work for the needy #COVID19 pati…',\n",
              "  'manoj_taneja',\n",
              "  'Ujjain, India',\n",
              "  'Twitter for Android'],\n",
              " ['RT @Sandhwan: These r the ventilators fm #PMCaresFund lying unused in GGSMC Faridkot. @CMOPb pls make them work for the needy #COVID19 pati…',\n",
              "  'pradeepbandaj1',\n",
              "  'बिजनौर, भारत 🇮🇳🇮🇳 ',\n",
              "  'Twitter for Android'],\n",
              " ['RT @OfficialFCTA: FCTA PRESS RELEASE\\n\\nEID-PRAYERS TO HOLD ONLY IN JUMA’AT MOSQUE PREMISES\\n\\nPUBLIC PARKS ARE TO BE CLOSED\\n\\n#COVID19 PROTOCOL…',\n",
              "  'dalhatu_yunusa',\n",
              "  'Abuja, Nigeria',\n",
              "  'Twitter for Android'],\n",
              " ['RT @IndiaToday: The government panel said those having laboratory test-proven SARS-CoV-2 illness should defer Covid-19 vaccination for six…',\n",
              "  'officeaksingh',\n",
              "  'serampore',\n",
              "  'Twitter for Android'],\n",
              " ['RT @BloodDonorsIn: #Vijayawada\\nNeed #Blood Type :  B-positive\\nAt : Sunrise\\nBlood Component : Need Plasma B+ve from #Covid19 recovered patie…',\n",
              "  'mohan_selvam',\n",
              "  'Chennai',\n",
              "  'Twitter for iPhone'],\n",
              " ['RT @ndtv: \"A meeting of the Indian Council of Medical Research (ICMR) #COVID19 National Task Force will be held tomorrow. A decision on the…',\n",
              "  'shirajhonson',\n",
              "  '',\n",
              "  'Twitter Web App'],\n",
              " ['RT @hemantrajora_: Inside View where patients are being admitted.\\n\\nNew #COVID19 Facility in Delhi https://t.co/XQIHSa5eps https://t.co/N5cA…',\n",
              "  'sohini_6',\n",
              "  'Kolkata, India',\n",
              "  'Twitter Web App'],\n",
              " ['RT @tarak9999: Wear a mask and get yourself vaccinated,when available! \\nLet’s #StandTogether to stop the spread and save the country from #…',\n",
              "  'SathyaK00574811',\n",
              "  'Kakinada, India',\n",
              "  'Twitter for Android'],\n",
              " ['RT @kakape: The most comprehensive review of how the world responded to #covid19 and how to prevent the next pandemic was published today.…',\n",
              "  'dirkverdicchio',\n",
              "  'Bern, CH',\n",
              "  'Twitter for Android'],\n",
              " ['A meeting of the ICMR #COVID19 National Task Force will be held tomorrow. A decision on the inappropriate use of co… https://t.co/jMDY98Stlk',\n",
              "  'Kalingatv',\n",
              "  'Odisha, India',\n",
              "  'Twitter Web App'],\n",
              " ['Fauci caused the pandemic! #Fauci #COVID19 #FoxNews https://t.co/NzQPmiNJSm',\n",
              "  'fudmuk',\n",
              "  'USA',\n",
              "  'Twitter for iPhone'],\n",
              " ['RT @UrsVamsiShekar: Hindupur MLA #NandamuriBalakrishna sent #Covid19 medicines worth Rs 20 Lakhs from Hyderabad.\\nTDP leaders handed over th…',\n",
              "  'tejach9999',\n",
              "  'Andhra Pradesh, India',\n",
              "  'Twitter for Android'],\n",
              " ['RT @Sandhwan: These r the ventilators fm #PMCaresFund lying unused in GGSMC Faridkot. @CMOPb pls make them work for the needy #COVID19 pati…',\n",
              "  'binod_khyalli',\n",
              "  '',\n",
              "  'Twitter for Android'],\n",
              " ['RT @_NayanatharaJ: The National Hospital of Sri Lanka is in a urgent need of N95 Masks! \\n\\n#Donations #donate #N95 #Emergency #LKA #Srilanka…',\n",
              "  'imjvithu',\n",
              "  'Colombo, Srilanka',\n",
              "  'Twitter for iPhone'],\n",
              " ['RT @ajplus: At least 53 people in occupied Gaza have been confirmed killed by Israeli air strikes, 14 of whom are children.\\n\\nGaza’s hospita…',\n",
              "  'KyungBabo',\n",
              "  'Belgique',\n",
              "  'Twitter for Android'],\n",
              " ['RT @revathitweets: “Situation Under Control”- trending phrase in #Telangana right now. May be it is true for these politicians!? All hungam…',\n",
              "  'mnrao07',\n",
              "  'Pulipadu, Guntur. ',\n",
              "  'Twitter for Android'],\n",
              " ['RT @ZoniaTweets: There is no #Eid this time for us. Our family, our children remember and pray for millions dead due to #COVID19 ,the innoc…',\n",
              "  'ZoniaTweets',\n",
              "  'Karachi, Pakistan',\n",
              "  'Twitter for Android'],\n",
              " ['RT @ndtv: Centre should get vaccines on states’ behalf; states left to compete in international market, portrays bad image of India: Delhi…',\n",
              "  '__Sam_David__',\n",
              "  'Kandivali West, Mumbai',\n",
              "  'Twitter for Android'],\n",
              " ['RT @AmyKazmin: The contrast between the projected image + the actual capacities has never been so stark: @FinancialTimes looks at how #COVI…',\n",
              "  'samar11',\n",
              "  'Bangalore, India',\n",
              "  'Twitter for Android'],\n",
              " ['RT @AnandSuriyaOffl: • @Suriya_offl Anna Congratulated CM @mkstalin On His Victory in TN Assembly Elections And Donated 1 Crore Covid Relie…',\n",
              "  'AYYAPPA79697163',\n",
              "  '',\n",
              "  'Twitter for Android'],\n",
              " ['RT @AbraarKaran: Every case I have treated in the past month has been unvaccinated or partially vaccinated. #covid19',\n",
              "  'FauciFan',\n",
              "  'Bethesda, MD',\n",
              "  'Twitter for iPhone'],\n",
              " ['RT @singamgroup8: Wear Double Mask And Stay Safe \\n\\n@Suriya_offl #Suriya40 #VaadiVaasal #COVID19 https://t.co/iyp04hKcNL',\n",
              "  'Karan_Suriya_',\n",
              "  'Sri Lanka🇱🇰',\n",
              "  'Twitter for Android'],\n",
              " ['Introducing Tazzo OneShot By Jilnic Care. \\n\\n#covid #covid19 #coronavirus #handsanitizer #sanitizer #pandemic… https://t.co/MZ86DehJBD',\n",
              "  'jilniccare',\n",
              "  '',\n",
              "  'Twitter Web App'],\n",
              " [\"RT @LawrenceSellin: Outstanding work by #COVID19 detective @jsdfposjpqyuee1 Pei-Yong Shi is showing up as a major link with the People's Li…\",\n",
              "  'Summer08596223',\n",
              "  '',\n",
              "  'Twitter for iPhone'],\n",
              " ['RT @TrendsAlluArjun: #COVID19 || #COVID19India\\nVERIFIED ✅✅\\nFAVICOVID 400mg available \\n\\nStock available\\nVerified today at 11:30 AM\\n#FaviCovi…',\n",
              "  '10kingugaadu',\n",
              "  '',\n",
              "  'Twitter for Android'],\n",
              " ['Wonder Herbal formulation by PGIMER for use in animals during COVID-19 times: GADVASU\\nhttps://t.co/kzJqzhp6dK… https://t.co/waV1NtlWm7',\n",
              "  'krishijagran',\n",
              "  'Green Park, New Delhi',\n",
              "  'TweetDeck'],\n",
              " ['TIME TO CONSIDER BUSINESS RESCUE... When should a company file for business rescue? A company should commence busin… https://t.co/uxQgeC5h6a',\n",
              "  'BizRescueSturns',\n",
              "  'Johannesburg, South Africa',\n",
              "  'Twitter Web App'],\n",
              " [\"RT @moversaurus: With the #StampDutyHoliday now extended to #June, a '#summer boom' is expected in the #propertymarket - and #digitalisatio…\",\n",
              "  'ukpropertyinves',\n",
              "  '#UK',\n",
              "  'Twitter for Android'],\n",
              " ['RT @LiceMovono: This second death of this 2nd wave brings the total COVID19 Fiji death toll to 4. However it is the first time a patient ha…',\n",
              "  'lizanotsokoshy',\n",
              "  'Suva City, Fiji',\n",
              "  'Twitter for Android'],\n",
              " ['RT @ashishdua_INC: #COVID19 has exposed biggest celebrities as uncaring, 56\" leaders &amp; followers having feet of clay, so called intellectua…',\n",
              "  'kamleshkha_hkar',\n",
              "  'आरमोरी India',\n",
              "  'Twitter for Android'],\n",
              " ['RT @malhotra_malika: Amid multiple states reporting a shortage of #COVID19 vaccine, @SerumInstIndia and @BharatBiotech will increase #Covid…',\n",
              "  'p_sgupta',\n",
              "  'India',\n",
              "  'Twitter for Android'],\n",
              " ['RT @RatuLalabalavu: This is not the time for political rhetoric or point scoring, but one that calls on each one of us to play our part, be…',\n",
              "  'peniiana',\n",
              "  'Silana, Dawasamu, Tailevu ',\n",
              "  'Twitter for Android'],\n",
              " ['RT @EMBOPress: From our #SARSCoV2 &amp; #COVID19 collection\\n\\n\"SARS‐CoV‐2 infection remodels the host protein thermal stability landscape\" #Prot…',\n",
              "  'StefanBassler',\n",
              "  'Heidelberg, Germany',\n",
              "  'Twitter for iPhone'],\n",
              " ['RT @LawrenceSellin: More links uncovered between Pei-Yong Shi and the Wuhan Institute of Virology by #COVID19 detective @RealLiAngNaDuo',\n",
              "  'Summer08596223',\n",
              "  '',\n",
              "  'Twitter for iPhone'],\n",
              " ['RT @ArgusNews_in: Total 30,94,48,585 samples tested for #COVID19 up to 12 May, 2021. Of these, 18,64,594 samples were tested yesterday: Ind…',\n",
              "  'mrsagarpattash1',\n",
              "  '',\n",
              "  'Twitter Web App'],\n",
              " ['RT @sukaryango: #COVID19 has been unprecedented. Humanity is being tested in every possible way. The worst affected are those living on the…',\n",
              "  'ShipraShukla11',\n",
              "  'Delhi',\n",
              "  'Twitter for Android'],\n",
              " ['RT @AlertDaiily: India Gov : We might/will ban #cryptocurrency\\n\\n@VitalikButerin : I am donating $1bn worth of #SHIB to your #COVID19 Relief…',\n",
              "  'lux_hq',\n",
              "  '',\n",
              "  'luxhq2'],\n",
              " ['RT @siddaramaiah: #EidMubarak to all my Muslim brothers and sisters.\\n\\nMay this auspicious occasion spread the importance of care, compassio…',\n",
              "  'Nataz30773934',\n",
              "  '',\n",
              "  'Twitter for Android'],\n",
              " ['RT @Sandhwan: These r the ventilators fm #PMCaresFund lying unused in GGSMC Faridkot. @CMOPb pls make them work for the needy #COVID19 pati…',\n",
              "  'TheUnnamedFeel4',\n",
              "  '',\n",
              "  'Twitter for Android'],\n",
              " [\"RT @satoshisanrises: History was made today by @VitalikButerin's $SHIB donation.  Be a part of history, buy $SHIB and help India with #covi…\",\n",
              "  'lux_hq',\n",
              "  '',\n",
              "  'luxhq2'],\n",
              " ['RT @barandbench: Put up the data of available vaccines on some website: Karnataka High Court\\n\\n#KarnatakaHighCourt #KarnatakaFightsCorona #C…',\n",
              "  'prameshjain12',\n",
              "  'proud Indian ',\n",
              "  'Twitter for Android'],\n",
              " ['according to my personal research &amp; analysis countries that has Illusion problem are probably mostly effected by Co… https://t.co/1BgYZBYLHz',\n",
              "  'Masoodkhanz1',\n",
              "  'SunsetSunrise',\n",
              "  'Twitter for Android'],\n",
              " ['RT @JANNATEKASHMI13: In pursuance to strike a chord with the local populace,   #IndianArmy reached out to locals #village in #Kashmir to sp…',\n",
              "  'AkashPaint',\n",
              "  'Jamshedpur, India',\n",
              "  'Twitter for Android'],\n",
              " ['RT @LiveLawIndia: Justice Hemant Gupta launches the app. \\n\\nJustice Gupta: This is a great initiative to increase transparency. There is onl…',\n",
              "  'answeringlaw',\n",
              "  'Kerala',\n",
              "  'Twitter Web App'],\n",
              " ['RT @COVIDNewsByMIB: #IndiaFightsCorona:\\n\\n📍𝑴𝒐𝒓𝒆 𝒕𝒉𝒂𝒏 18.5 𝒍𝒂𝒌𝒉 (18,94,991) 𝒗𝒂𝒄𝒄𝒊𝒏𝒆 𝒅𝒐𝒔𝒆𝒔 𝒂𝒅𝒎𝒊𝒏𝒊𝒔𝒕𝒆𝒓𝒆𝒅 𝒊𝒏 𝒕𝒉𝒆 𝒍𝒂𝒔𝒕 24 𝒉𝒐𝒖𝒓𝒔.\\n\\n➡️ Together we…',\n",
              "  'viralvideovlogs',\n",
              "  'കേരളം',\n",
              "  'Naattuvartha'],\n",
              " ['RT @PIBBhubaneswar: 🛫#Bhubaneswar Airport ensures seamless delivery of medical essentials to support fight against #COVID19\\n\\n🛫Total 156 emp…',\n",
              "  'ImSidhuRSS',\n",
              "  'Bharat',\n",
              "  'Twitter for Android'],\n",
              " ['RT @COVIDNewsByMIB: #IndiaFightsCorona:\\n\\n📍𝑴𝒐𝒓𝒆 𝒕𝒉𝒂𝒏 18.5 𝒍𝒂𝒌𝒉 (18,94,991) 𝒗𝒂𝒄𝒄𝒊𝒏𝒆 𝒅𝒐𝒔𝒆𝒔 𝒂𝒅𝒎𝒊𝒏𝒊𝒔𝒕𝒆𝒓𝒆𝒅 𝒊𝒏 𝒕𝒉𝒆 𝒍𝒂𝒔𝒕 24 𝒉𝒐𝒖𝒓𝒔.\\n\\n➡️ Together we…',\n",
              "  'nelsonchaudhuri',\n",
              "  'New Delhi',\n",
              "  'Twitter for Android'],\n",
              " ['RT @curious_scribe: Indians aged 18-44 are rushing to get vaccinated amid a huge #COVID19 surge.\\n\\nBut they face vaccine shortages and onlin…',\n",
              "  'moha__barakat',\n",
              "  'life remains beautiful ',\n",
              "  'Twitter for iPhone'],\n",
              " ['RT @LawrenceSellin: Excellent work by #COVID19 detective @xiaomayi7\\nputting names to faces.',\n",
              "  'lovewor02219861',\n",
              "  '',\n",
              "  'Twitter for iPhone'],\n",
              " [\"Epic speach from the @EricaLStanford in the #NewZealand parliament\\nIt's not about to expose the INZ, but the people… https://t.co/yRoEPTgw7c\",\n",
              "  'LetusbacktoNZ',\n",
              "  'Auckland, New Zealand',\n",
              "  'Twitter Web App'],\n",
              " ['RT @khalsaaid_india: #InternationalNursesDay \\n\\nOur gesture of appreciation to our unsung heroes, our Nurses who are working mechanically da…',\n",
              "  'Sandhu_Punjaban',\n",
              "  'Tu amb lene aa',\n",
              "  'Twitter for Android'],\n",
              " ['RT @hbdsofficial: Sivaji\\n2 units of #blood NEEDED\\nSunshine Hospital, Gachibowli\\n9738439799\\n#BloodMatters #COVIDEmergency #verified @CovidPl…',\n",
              "  'Dhruvam271',\n",
              "  '',\n",
              "  'Twitter Web App'],\n",
              " ['RT @ndtv: Masjid Javeed in Anna Nagar, Chennai has opened a quarantine centre for people who are #COVID19 negative but need a place to stay…',\n",
              "  'Mohdaliali1234',\n",
              "  'New Delhi, India',\n",
              "  'Twitter for Android'],\n",
              " ['RT @LawrenceSellin: I agree with #COVID19 detective @dezying\\n\"A guideline for Covid-detectives to decipher the research network behind SARS…',\n",
              "  'Summer08596223',\n",
              "  '',\n",
              "  'Twitter for iPhone'],\n",
              " ['RT @jkphoto68: \"Warmest Regards\".....\\nAn old microwave oven doubles up as a remote post box outside a building in East Clare recently. #COV…',\n",
              "  'JJohnFoyle',\n",
              "  'Dublin City, Ireland',\n",
              "  'Twitter for Android'],\n",
              " ['A 2014 published study shows the Matrix M (same adjuvant $NVAX uses) adjuvanted virosomal H5N1 induced balanced Th1… https://t.co/gliSInBG5y',\n",
              "  'PharmaBros',\n",
              "  '',\n",
              "  'Twitter for iPhone'],\n",
              " ['RT @ROBTrivandrum: India registered more than 3.5 lakh (3,52,181) #COVID19 recoveries in the last 24 hours.\\n@MIB_India @BOC_MIB @PIBTvpm @P…',\n",
              "  'fobcbe',\n",
              "  'Coimbatore',\n",
              "  'Twitter Web App'],\n",
              " ['RT @TheCapeTownGuy: I got the Vaccine 😀 The doses were going to expire and I was able to register for it 💉 Arm is a bit sore but overall I…',\n",
              "  'bjrnrkstr',\n",
              "  '',\n",
              "  'Twitter for Android'],\n",
              " ['RT @DrBobHariri: There’s nothing more frustrating than watching the data on #COVID19 being misinterpreted by the media.  In a clear effort…',\n",
              "  'Futurengineeer',\n",
              "  '',\n",
              "  'Twitter Web App'],\n",
              " ['RT @TrendsAlluArjun: #COVID19 || #COVID19India\\nVERIFIED ✅✅\\nFAVICOVID 400mg available \\n\\nStock available\\nVerified today at 11:30 AM\\n#FaviCovi…',\n",
              "  'jagadeesh2658',\n",
              "  '',\n",
              "  'Twitter for Android'],\n",
              " ['Thread by @kakape: The most comprehensive review of how the world responded to #covid19 and how to prevent the next… https://t.co/S7hamMwL0s',\n",
              "  'macinthemiddle',\n",
              "  'Munich',\n",
              "  'Twitter for iPhone'],\n",
              " ['#COVID19 #Covid_19 in #Tokyo. Retrieved 13 May. #Tokyo2020 #Olympic\\nTokyo pop. 12 million.\\nCumulative Positive : 14… https://t.co/luHmBJ6IgT',\n",
              "  'kokontosai',\n",
              "  '日本 東京 世界',\n",
              "  'Twitter for Android'],\n",
              " ['RT @achyuta_samanta: Keeping a balance between the four preventive measures is the key to stay safe from the #COVID19 virus. https://t.co/Y…',\n",
              "  'RanjanK07060230',\n",
              "  'Bhubaneshwar, India',\n",
              "  'Twitter Web App'],\n",
              " ['RT @RadioChinar: Since childhood, we enthusiastically wait for #EidCelebrations and Eidi every year. But this year, amid #COVID19 for well…',\n",
              "  'Anvar54700101',\n",
              "  '',\n",
              "  'Twitter for Android'],\n",
              " [\"India is facing a #COVID19 Apocalypse - India's worst calamity since the Bengal Famine of 1943. The culprit of that… https://t.co/pRl3TERkD1\",\n",
              "  'JitChak03224186',\n",
              "  'Kolkata',\n",
              "  'Twitter for Android'],\n",
              " [\"RT @MsBehavior: Old enough to take a shot? You're old enough to get a shot. #GoVaccinesGo! #Covid19\",\n",
              "  'kerrraaaaa',\n",
              "  '',\n",
              "  'Twitter for iPhone'],\n",
              " ['RT @AdvHarshalDesai: The deaths per day in #Goa are shooting up to 70!\\nMost of these deaths are due to #OxygenShortage at @GoaGmc!\\n\\nIf we w…',\n",
              "  'anshvss',\n",
              "  'Goa, India',\n",
              "  'Twitter for Android'],\n",
              " [\"RT @LiceMovono: A woman is dead and three staff of Fiji’s Centre for Disease Control are among today's four new cases of COVID19. #FijiNews…\",\n",
              "  'epafiji',\n",
              "  'Lautoka, Fiji',\n",
              "  'Twitter for Android'],\n",
              " ['RT @LiveLawIndia: Justice Chandrachud informs everyone that he had received both the doses and has had a mild reaction. He emphasises on th…',\n",
              "  'm_adil80',\n",
              "  'मुरादाबाद, लखनऊ, दिल्ली',\n",
              "  'Twitter for Android'],\n",
              " ['Post-#COVID19, the #power &amp; #energy sector can be at the heart of a ‘green recovery’ by embracing five transformati… https://t.co/2tWvzWizDb',\n",
              "  'Frost_MENASA',\n",
              "  '',\n",
              "  'Twitter Web App'],\n",
              " ['When Children are being left orphan due to the demise of their parents #COVID19 Lets do our bit and help them in gi… https://t.co/U5ORRTgJMb',\n",
              "  'LexterzOfficial',\n",
              "  '',\n",
              "  'Twitter Web App'],\n",
              " ['RT @htTweets: Madhya Pradesh govt will provide free education and a pension of ₹5,000 per month to children whose parents died of #COVID19,…',\n",
              "  'woodmontcyn',\n",
              "  'Milford, CT',\n",
              "  'Twitter for Android'],\n",
              " ['J&amp;K Govt increases medical oxygen infrastructure amid soar in demand\\nhttps://t.co/cHUVclsFAf\\n#India… https://t.co/rLl5krYCZZ',\n",
              "  'ANI_multimedia',\n",
              "  'New Delhi',\n",
              "  'Twitter Web App'],\n",
              " ['Justice Hemant Gupta launches the app. \\n\\nJustice Gupta: This is a great initiative to increase transparency. There… https://t.co/GODtM3RPQe',\n",
              "  'LiveLawIndia',\n",
              "  'India',\n",
              "  'Twitter for iPhone'],\n",
              " ['RT @BloodDonorsIn: #Ghaziabad\\nNeed #Blood Type :  A-positive\\nAt : Sarvodaya \\nBlood Component : Need plasma from A+ve #covid19 recovered pat…',\n",
              "  'tanushreepodder',\n",
              "  'India',\n",
              "  'Twitter Web App'],\n",
              " ['#oxygenkits\\n#covid19\\n#delhincr\\nOXYGEN KITS AVAILABLE IN DELHI VERIFIED BY NSS SBSEC ✅\\n@_NSSIndia @BBCIndia… https://t.co/aNBAeWPxud',\n",
              "  'nss_sbsec',\n",
              "  '',\n",
              "  'Twitter for Android'],\n",
              " ['RT @cinecorndotcom: Hindupur MLA #NandamuriBalakrishna sent #Covid19 medicines worth Rs 20 Lakhs from Hyderabad.TDP leaders handed over the…',\n",
              "  'RaghuActor',\n",
              "  'HYDERABAD',\n",
              "  'Twitter for Android'],\n",
              " ['RT @MOFA_Taiwan: Minister Wu &amp; @PedroBroloGT had a good video discussion. Topics included #COVID19 in #Taiwan🇹🇼 &amp; #Guatemala🇬🇹, efforts to…',\n",
              "  'CFLEE61951814',\n",
              "  '',\n",
              "  'Twitter for Android'],\n",
              " ['RT @crihere: #Bangladesh expands its social security outreach amid #covid19 pandemic. Checkout the innovative strategies adopted to protect…',\n",
              "  'shah_farhad',\n",
              "  'Dhaka, Bangladesh',\n",
              "  'Twitter for Android'],\n",
              " ['RT @EvertonianCamel: @MichelePaduano @bbcmtd Perhaps if post-viral fatigue syndrome &amp; #Fibromyalgia had been taken more seriously &amp; not dis…',\n",
              "  'MichelePaduano',\n",
              "  '',\n",
              "  'Twitter Web App'],\n",
              " ['RT @UrsVamsiShekar: Hindupur MLA #NandamuriBalakrishna sent #Covid19 medicines worth Rs 20 Lakhs from Hyderabad.\\nTDP leaders handed over th…',\n",
              "  'CHlnarayana05',\n",
              "  'addanki',\n",
              "  'Twitter for Android']]"
            ]
          },
          "execution_count": 9,
          "metadata": {
            "tags": []
          },
          "output_type": "execute_result"
        }
      ],
      "source": [
        "tweet_details"
      ]
    },
    {
      "cell_type": "code",
      "execution_count": null,
      "metadata": {
        "id": "5SeTnpYnLECU"
      },
      "outputs": [],
      "source": [
        "import pandas as pd"
      ]
    },
    {
      "cell_type": "code",
      "execution_count": null,
      "metadata": {
        "id": "y0URhY_mZE_A"
      },
      "outputs": [],
      "source": [
        "#making a dataframe\n",
        "tweet_df = pd.DataFrame(data=tweet_details, columns=['text','user', \"location\", \"Device\"])"
      ]
    },
    {
      "cell_type": "code",
      "execution_count": null,
      "metadata": {
        "colab": {
          "base_uri": "https://localhost:8080/",
          "height": 204
        },
        "id": "6wdFdf460ZoI",
        "outputId": "90a4f062-242e-4d3b-ba72-98a61a9f2827"
      },
      "outputs": [
        {
          "data": {
            "text/html": [
              "<div>\n",
              "<style scoped>\n",
              "    .dataframe tbody tr th:only-of-type {\n",
              "        vertical-align: middle;\n",
              "    }\n",
              "\n",
              "    .dataframe tbody tr th {\n",
              "        vertical-align: top;\n",
              "    }\n",
              "\n",
              "    .dataframe thead th {\n",
              "        text-align: right;\n",
              "    }\n",
              "</style>\n",
              "<table border=\"1\" class=\"dataframe\">\n",
              "  <thead>\n",
              "    <tr style=\"text-align: right;\">\n",
              "      <th></th>\n",
              "      <th>text</th>\n",
              "      <th>user</th>\n",
              "      <th>location</th>\n",
              "      <th>Device</th>\n",
              "    </tr>\n",
              "  </thead>\n",
              "  <tbody>\n",
              "    <tr>\n",
              "      <th>0</th>\n",
              "      <td>RT @RadioChinar: Since childhood, we enthusias...</td>\n",
              "      <td>RohitKu10100420</td>\n",
              "      <td></td>\n",
              "      <td>Twitter for Android</td>\n",
              "    </tr>\n",
              "    <tr>\n",
              "      <th>1</th>\n",
              "      <td>RT @khalsaaid_india: #InternationalNursesDay \\...</td>\n",
              "      <td>JASVIRS29320775</td>\n",
              "      <td></td>\n",
              "      <td>Twitter for Android</td>\n",
              "    </tr>\n",
              "    <tr>\n",
              "      <th>2</th>\n",
              "      <td>RT @LiceMovono: Fiji has had 165 cases, 109 re...</td>\n",
              "      <td>itsjustlido_xo</td>\n",
              "      <td></td>\n",
              "      <td>Twitter for iPhone</td>\n",
              "    </tr>\n",
              "    <tr>\n",
              "      <th>3</th>\n",
              "      <td>RT @YashhD_FC: Free Oxygen cylinder service fo...</td>\n",
              "      <td>YashianBarnali</td>\n",
              "      <td>Tarakeswar, India</td>\n",
              "      <td>Twitter for Android</td>\n",
              "    </tr>\n",
              "    <tr>\n",
              "      <th>4</th>\n",
              "      <td>RT @HelenBranswell: 1. Interesting presentatio...</td>\n",
              "      <td>Toetterbeck</td>\n",
              "      <td>After 40 years away now FRG</td>\n",
              "      <td>Twitter for iPhone</td>\n",
              "    </tr>\n",
              "  </tbody>\n",
              "</table>\n",
              "</div>"
            ],
            "text/plain": [
              "                                                text  ...               Device\n",
              "0  RT @RadioChinar: Since childhood, we enthusias...  ...  Twitter for Android\n",
              "1  RT @khalsaaid_india: #InternationalNursesDay \\...  ...  Twitter for Android\n",
              "2  RT @LiceMovono: Fiji has had 165 cases, 109 re...  ...   Twitter for iPhone\n",
              "3  RT @YashhD_FC: Free Oxygen cylinder service fo...  ...  Twitter for Android\n",
              "4  RT @HelenBranswell: 1. Interesting presentatio...  ...   Twitter for iPhone\n",
              "\n",
              "[5 rows x 4 columns]"
            ]
          },
          "execution_count": 12,
          "metadata": {
            "tags": []
          },
          "output_type": "execute_result"
        }
      ],
      "source": [
        "#pd.set_option('max_rowwidth', 800)\n",
        "#check dataframe\n",
        "tweet_df.head(5)"
      ]
    },
    {
      "cell_type": "code",
      "execution_count": null,
      "metadata": {
        "id": "AYcgJ1M6ex85"
      },
      "outputs": [],
      "source": [
        "tweet_df.to_csv('tweets1.csv')"
      ]
    },
    {
      "cell_type": "code",
      "execution_count": null,
      "metadata": {
        "colab": {
          "base_uri": "https://localhost:8080/"
        },
        "id": "Yn4YlnbQl48J",
        "outputId": "f35b4eb3-511c-4a63-a223-7ed695766ebb"
      },
      "outputs": [
        {
          "name": "stdout",
          "output_type": "stream",
          "text": [
            "sample_data  tweets100.csv  tweets1.csv  tweets.csv\n"
          ]
        }
      ],
      "source": [
        "!ls"
      ]
    },
    {
      "cell_type": "code",
      "execution_count": null,
      "metadata": {
        "colab": {
          "base_uri": "https://localhost:8080/"
        },
        "id": "BUU5aYBFJJ2V",
        "outputId": "5ed42605-b113-44a6-b871-9c9465125c5d"
      },
      "outputs": [
        {
          "data": {
            "text/plain": [
              "Twitter for Android    59\n",
              "Twitter Web App        20\n",
              "Twitter for iPhone     17\n",
              "luxhq2                  2\n",
              "TweetDeck               1\n",
              "Naattuvartha            1\n",
              "Name: Device, dtype: int64"
            ]
          },
          "execution_count": 13,
          "metadata": {
            "tags": []
          },
          "output_type": "execute_result"
        }
      ],
      "source": [
        "#most frequent location\n",
        "tweet_df.Device.value_counts()"
      ]
    },
    {
      "cell_type": "code",
      "execution_count": null,
      "metadata": {
        "colab": {
          "base_uri": "https://localhost:8080/"
        },
        "id": "5wzDbeKZfGeV",
        "outputId": "54d93b05-8878-4459-e175-bf81846ab80e"
      },
      "outputs": [
        {
          "name": "stdout",
          "output_type": "stream",
          "text": [
            "Collecting emoji\n",
            "\u001b[?25l  Downloading https://files.pythonhosted.org/packages/24/fa/b3368f41b95a286f8d300e323449ab4e86b85334c2e0b477e94422b8ed0f/emoji-1.2.0-py3-none-any.whl (131kB)\n",
            "\r\u001b[K     |██▌                             | 10kB 17.6MB/s eta 0:00:01\r\u001b[K     |█████                           | 20kB 24.7MB/s eta 0:00:01\r\u001b[K     |███████▌                        | 30kB 28.8MB/s eta 0:00:01\r\u001b[K     |██████████                      | 40kB 30.4MB/s eta 0:00:01\r\u001b[K     |████████████▌                   | 51kB 31.3MB/s eta 0:00:01\r\u001b[K     |███████████████                 | 61kB 24.4MB/s eta 0:00:01\r\u001b[K     |█████████████████▌              | 71kB 26.0MB/s eta 0:00:01\r\u001b[K     |████████████████████            | 81kB 26.0MB/s eta 0:00:01\r\u001b[K     |██████████████████████▌         | 92kB 27.3MB/s eta 0:00:01\r\u001b[K     |█████████████████████████       | 102kB 27.3MB/s eta 0:00:01\r\u001b[K     |███████████████████████████▌    | 112kB 27.3MB/s eta 0:00:01\r\u001b[K     |██████████████████████████████  | 122kB 27.3MB/s eta 0:00:01\r\u001b[K     |████████████████████████████████| 133kB 27.3MB/s \n",
            "\u001b[?25hInstalling collected packages: emoji\n",
            "Successfully installed emoji-1.2.0\n"
          ]
        }
      ],
      "source": [
        "!pip install emoji"
      ]
    },
    {
      "cell_type": "code",
      "execution_count": null,
      "metadata": {
        "id": "y8s2I_lvfGhV"
      },
      "outputs": [],
      "source": [
        "#for extracting emojis from data\n",
        "import emoji"
      ]
    },
    {
      "cell_type": "code",
      "execution_count": null,
      "metadata": {
        "colab": {
          "base_uri": "https://localhost:8080/",
          "height": 204
        },
        "id": "3jqwHsZz7BmO",
        "outputId": "c59a10d3-93c9-4f14-f944-068c5207bd15"
      },
      "outputs": [
        {
          "data": {
            "text/html": [
              "<div>\n",
              "<style scoped>\n",
              "    .dataframe tbody tr th:only-of-type {\n",
              "        vertical-align: middle;\n",
              "    }\n",
              "\n",
              "    .dataframe tbody tr th {\n",
              "        vertical-align: top;\n",
              "    }\n",
              "\n",
              "    .dataframe thead th {\n",
              "        text-align: right;\n",
              "    }\n",
              "</style>\n",
              "<table border=\"1\" class=\"dataframe\">\n",
              "  <thead>\n",
              "    <tr style=\"text-align: right;\">\n",
              "      <th></th>\n",
              "      <th>text</th>\n",
              "      <th>user</th>\n",
              "      <th>location</th>\n",
              "      <th>Device</th>\n",
              "    </tr>\n",
              "  </thead>\n",
              "  <tbody>\n",
              "    <tr>\n",
              "      <th>0</th>\n",
              "      <td>RT @RadioChinar: Since childhood, we enthusias...</td>\n",
              "      <td>RohitKu10100420</td>\n",
              "      <td></td>\n",
              "      <td>Twitter for Android</td>\n",
              "    </tr>\n",
              "    <tr>\n",
              "      <th>1</th>\n",
              "      <td>RT @khalsaaid_india: #InternationalNursesDay \\...</td>\n",
              "      <td>JASVIRS29320775</td>\n",
              "      <td></td>\n",
              "      <td>Twitter for Android</td>\n",
              "    </tr>\n",
              "    <tr>\n",
              "      <th>2</th>\n",
              "      <td>RT @LiceMovono: Fiji has had 165 cases, 109 re...</td>\n",
              "      <td>itsjustlido_xo</td>\n",
              "      <td></td>\n",
              "      <td>Twitter for iPhone</td>\n",
              "    </tr>\n",
              "    <tr>\n",
              "      <th>3</th>\n",
              "      <td>RT @YashhD_FC: Free Oxygen cylinder service fo...</td>\n",
              "      <td>YashianBarnali</td>\n",
              "      <td>Tarakeswar, India</td>\n",
              "      <td>Twitter for Android</td>\n",
              "    </tr>\n",
              "    <tr>\n",
              "      <th>4</th>\n",
              "      <td>RT @HelenBranswell: 1. Interesting presentatio...</td>\n",
              "      <td>Toetterbeck</td>\n",
              "      <td>After 40 years away now FRG</td>\n",
              "      <td>Twitter for iPhone</td>\n",
              "    </tr>\n",
              "  </tbody>\n",
              "</table>\n",
              "</div>"
            ],
            "text/plain": [
              "                                                text  ...               Device\n",
              "0  RT @RadioChinar: Since childhood, we enthusias...  ...  Twitter for Android\n",
              "1  RT @khalsaaid_india: #InternationalNursesDay \\...  ...  Twitter for Android\n",
              "2  RT @LiceMovono: Fiji has had 165 cases, 109 re...  ...   Twitter for iPhone\n",
              "3  RT @YashhD_FC: Free Oxygen cylinder service fo...  ...  Twitter for Android\n",
              "4  RT @HelenBranswell: 1. Interesting presentatio...  ...   Twitter for iPhone\n",
              "\n",
              "[5 rows x 4 columns]"
            ]
          },
          "execution_count": 16,
          "metadata": {
            "tags": []
          },
          "output_type": "execute_result"
        }
      ],
      "source": [
        "tweet_df.head(5)"
      ]
    },
    {
      "cell_type": "code",
      "execution_count": null,
      "metadata": {
        "id": "lDSp4VwMrUrU"
      },
      "outputs": [],
      "source": [
        "#cleaning unnecessary like RT,\\n,emojis wtc from data\n",
        "import re\n",
        "\n",
        "def clean_tweets(text):\n",
        "    text = re.sub(\"RT @[\\w]*:\",\"\",text)\n",
        "    text = re.sub(\"@[\\w]*\",\"\",text)\n",
        "    text = re.sub(\"https?://[A-Za-z0-9./]*\",\"\",text)\n",
        "    text = re.sub(\"\\n\",\"\",text)\n",
        "    text = re.sub(emoji.get_emoji_regexp(), r\"\", text)\n",
        "    return text"
      ]
    },
    {
      "cell_type": "code",
      "execution_count": null,
      "metadata": {
        "id": "Tcpl5OH-rUh_"
      },
      "outputs": [
        {
          "ename": "NameError",
          "evalue": "name 'tweet_df' is not defined",
          "output_type": "error",
          "traceback": [
            "\u001b[1;31m---------------------------------------------------------------------------\u001b[0m",
            "\u001b[1;31mNameError\u001b[0m                                 Traceback (most recent call last)",
            "Cell \u001b[1;32mIn[2], line 2\u001b[0m\n\u001b[0;32m      1\u001b[0m \u001b[39m#applying clening function on tweet column\u001b[39;00m\n\u001b[1;32m----> 2\u001b[0m tweet_df[\u001b[39m'\u001b[39m\u001b[39mtext\u001b[39m\u001b[39m'\u001b[39m]\u001b[39m=\u001b[39mtweet_df[\u001b[39m'\u001b[39m\u001b[39mtext\u001b[39m\u001b[39m'\u001b[39m]\u001b[39m.\u001b[39mapply(\u001b[39mlambda\u001b[39;00m x: clean_tweets(x))\n",
            "\u001b[1;31mNameError\u001b[0m: name 'tweet_df' is not defined"
          ]
        }
      ],
      "source": [
        "#applying clening function on tweet column\n",
        "tweet_df['text']=tweet_df['text'].apply(lambda x: clean_tweets(x))"
      ]
    },
    {
      "cell_type": "code",
      "execution_count": null,
      "metadata": {
        "colab": {
          "base_uri": "https://localhost:8080/",
          "height": 204
        },
        "id": "R1w33ZGZJKTy",
        "outputId": "27fbe751-ab4f-4045-b8a5-5da87f8e6ac7"
      },
      "outputs": [
        {
          "data": {
            "text/html": [
              "<div>\n",
              "<style scoped>\n",
              "    .dataframe tbody tr th:only-of-type {\n",
              "        vertical-align: middle;\n",
              "    }\n",
              "\n",
              "    .dataframe tbody tr th {\n",
              "        vertical-align: top;\n",
              "    }\n",
              "\n",
              "    .dataframe thead th {\n",
              "        text-align: right;\n",
              "    }\n",
              "</style>\n",
              "<table border=\"1\" class=\"dataframe\">\n",
              "  <thead>\n",
              "    <tr style=\"text-align: right;\">\n",
              "      <th></th>\n",
              "      <th>text</th>\n",
              "      <th>user</th>\n",
              "      <th>location</th>\n",
              "      <th>Device</th>\n",
              "    </tr>\n",
              "  </thead>\n",
              "  <tbody>\n",
              "    <tr>\n",
              "      <th>0</th>\n",
              "      <td>Since childhood, we enthusiastically wait for...</td>\n",
              "      <td>RohitKu10100420</td>\n",
              "      <td></td>\n",
              "      <td>Twitter for Android</td>\n",
              "    </tr>\n",
              "    <tr>\n",
              "      <th>1</th>\n",
              "      <td>#InternationalNursesDay Our gesture of apprec...</td>\n",
              "      <td>JASVIRS29320775</td>\n",
              "      <td></td>\n",
              "      <td>Twitter for Android</td>\n",
              "    </tr>\n",
              "    <tr>\n",
              "      <th>2</th>\n",
              "      <td>Fiji has had 165 cases, 109 recoveries and 4 ...</td>\n",
              "      <td>itsjustlido_xo</td>\n",
              "      <td></td>\n",
              "      <td>Twitter for iPhone</td>\n",
              "    </tr>\n",
              "    <tr>\n",
              "      <th>3</th>\n",
              "      <td>Free Oxygen cylinder service for #COVID19 pat...</td>\n",
              "      <td>YashianBarnali</td>\n",
              "      <td>Tarakeswar, India</td>\n",
              "      <td>Twitter for Android</td>\n",
              "    </tr>\n",
              "    <tr>\n",
              "      <th>4</th>\n",
              "      <td>1. Interesting presentation to ACIP on cases ...</td>\n",
              "      <td>Toetterbeck</td>\n",
              "      <td>After 40 years away now FRG</td>\n",
              "      <td>Twitter for iPhone</td>\n",
              "    </tr>\n",
              "  </tbody>\n",
              "</table>\n",
              "</div>"
            ],
            "text/plain": [
              "                                                text  ...               Device\n",
              "0   Since childhood, we enthusiastically wait for...  ...  Twitter for Android\n",
              "1   #InternationalNursesDay Our gesture of apprec...  ...  Twitter for Android\n",
              "2   Fiji has had 165 cases, 109 recoveries and 4 ...  ...   Twitter for iPhone\n",
              "3   Free Oxygen cylinder service for #COVID19 pat...  ...  Twitter for Android\n",
              "4   1. Interesting presentation to ACIP on cases ...  ...   Twitter for iPhone\n",
              "\n",
              "[5 rows x 4 columns]"
            ]
          },
          "execution_count": 19,
          "metadata": {
            "tags": []
          },
          "output_type": "execute_result"
        }
      ],
      "source": [
        "tweet_df.head()"
      ]
    },
    {
      "cell_type": "code",
      "execution_count": null,
      "metadata": {
        "id": "7y_v9rZjiInN"
      },
      "outputs": [],
      "source": [
        "#saving for future requirement \n",
        "tweet_df.to_csv('tweets_clean.csv')"
      ]
    },
    {
      "cell_type": "code",
      "execution_count": null,
      "metadata": {
        "colab": {
          "base_uri": "https://localhost:8080/"
        },
        "id": "RtQ4Lq9ZipA9",
        "outputId": "0ad04896-b4f4-402c-d69f-20cb065190f9"
      },
      "outputs": [
        {
          "name": "stdout",
          "output_type": "stream",
          "text": [
            "sample_data  tweets100.csv  tweets1.csv  tweets_clean.csv  tweets.csv\n"
          ]
        }
      ],
      "source": [
        "#lets check whether it is saved or not\n",
        "!ls"
      ]
    },
    {
      "cell_type": "code",
      "execution_count": null,
      "metadata": {
        "id": "f2Sl-XzEsRHK"
      },
      "outputs": [],
      "source": [
        "#importing spacy\n",
        "import spacy \n",
        "\n",
        "nlp = spacy.load('en_core_web_sm') \n",
        "\n",
        "#https://spacy.io/usage/models"
      ]
    },
    {
      "cell_type": "code",
      "execution_count": null,
      "metadata": {
        "colab": {
          "base_uri": "https://localhost:8080/"
        },
        "id": "MqIv9AhlsXmM",
        "outputId": "25e45379-b457-4aa3-c043-d3bbac04bcdb"
      },
      "outputs": [
        {
          "name": "stdout",
          "output_type": "stream",
          "text": [
            "\tText : EidCelebrations,  Entity : PERSON\n",
            "\tText : Eidi,  Entity : ORG\n",
            "\tText : every year,  Entity : DATE\n",
            "\tText : this year,  Entity : DATE\n",
            "\tText : Fiji,  Entity : GPE\n",
            "\tText : 165,  Entity : CARDINAL\n",
            "\tText : 109,  Entity : CARDINAL\n",
            "\tText : 4,  Entity : CARDINAL\n",
            "\tText : Free Oxygen,  Entity : ORG\n",
            "\tText : WhatsApp,  Entity : ORG\n",
            "\tText : KolkataCovidR,  Entity : PERSON\n",
            "\tText : 1,  Entity : CARDINAL\n",
            "\tText : J&amp;J,  Entity : PERSON\n",
            "\tText : TTS,  Entity : ORG\n",
            "\tText : Jyotika,  Entity : PERSON\n",
            "\tText : One,  Entity : CARDINAL\n",
            "\tText : josh,  Entity : PERSON\n",
            "\tText : COVID19,  Entity : MONEY\n",
            "\tText : six to eight weeks,  Entity : DATE\n",
            "\tText : Situation Under Control”-,  Entity : WORK_OF_ART\n",
            "\tText : Telangana,  Entity : PERSON\n",
            "\tText : India,  Entity : GPE\n",
            "\tText : 500,  Entity : CARDINAL\n",
            "\tText : GTB Hospital,  Entity : ORG\n",
            "\tText : 15,  Entity : CARDINAL\n",
            "\tText : Muslim,  Entity : NORP\n",
            "\tText : Celebrate this Great Ramzan,  Entity : PERSON\n",
            "\tText : Awareness Campaign,  Entity : ORG\n",
            "\tText : Medica,  Entity : LOC\n",
            "\tText : Ghaziabad,  Entity : PERSON\n",
            "\tText : positiveAt,  Entity : CARDINAL\n",
            "\tText : Anand Hospital Blood Component,  Entity : ORG\n",
            "\tText : Need Plasma,  Entity : PERSON\n",
            "\tText : Examination,  Entity : ORG\n",
            "\tText : Etawah,  Entity : PERSON\n",
            "\tText : GGSMC Faridkot,  Entity : ORG\n",
            "\tText : GGSMC Faridkot,  Entity : ORG\n",
            "\tText : FCTA PRESS RELEASEEID-PRAYERS,  Entity : ORG\n",
            "\tText : JUMA’AT MOSQUE,  Entity : ORG\n",
            "\tText : six,  Entity : CARDINAL\n",
            "\tText : SunriseBlood Component :,  Entity : PRODUCT\n",
            "\tText : the Indian Council of Medical Research,  Entity : ORG\n",
            "\tText : National Task Force,  Entity : ORG\n",
            "\tText : tomorrow,  Entity : DATE\n",
            "\tText : Inside View,  Entity : FAC\n",
            "\tText : Delhi,  Entity : GPE\n",
            "\tText : StandTogether,  Entity : PERSON\n",
            "\tText : today,  Entity : DATE\n",
            "\tText : National Task Force,  Entity : ORG\n",
            "\tText : tomorrow,  Entity : DATE\n",
            "\tText : Hindupur,  Entity : ORG\n",
            "\tText : 20,  Entity : CARDINAL\n",
            "\tText : Hyderabad,  Entity : GPE\n",
            "\tText : GGSMC Faridkot,  Entity : ORG\n",
            "\tText : The National Hospital of Sri Lanka,  Entity : ORG\n",
            "\tText : N95 Masks,  Entity : ORG\n",
            "\tText : Srilanka,  Entity : PERSON\n",
            "\tText : At least 53,  Entity : CARDINAL\n",
            "\tText : Gaza,  Entity : GPE\n",
            "\tText : Israeli,  Entity : NORP\n",
            "\tText : 14,  Entity : CARDINAL\n",
            "\tText : Gaza,  Entity : GPE\n",
            "\tText : Situation Under Control”-,  Entity : WORK_OF_ART\n",
            "\tText : Telangana,  Entity : PERSON\n",
            "\tText : millions,  Entity : CARDINAL\n",
            "\tText : Centre,  Entity : GPE\n",
            "\tText : India,  Entity : GPE\n",
            "\tText : Delhi,  Entity : GPE\n",
            "\tText : Anna Congratulated CM,  Entity : PERSON\n",
            "\tText : TN Assembly,  Entity : ORG\n",
            "\tText : 1,  Entity : CARDINAL\n",
            "\tText : Covid Relie,  Entity : PERSON\n",
            "\tText : the past month,  Entity : DATE\n",
            "\tText : VaadiVaasal #COVID19,  Entity : ORG\n",
            "\tText : Pei-Yong Shi,  Entity : PERSON\n",
            "\tText : the People's Li,  Entity : ORG\n",
            "\tText : FAVICOVID,  Entity : ORG\n",
            "\tText : 400mg,  Entity : PRODUCT\n",
            "\tText : Stock,  Entity : ORG\n",
            "\tText : today,  Entity : DATE\n",
            "\tText : 11:30,  Entity : TIME\n",
            "\tText : June,  Entity : DATE\n",
            "\tText : second,  Entity : ORDINAL\n",
            "\tText : this 2nd,  Entity : DATE\n",
            "\tText : Fiji,  Entity : GPE\n",
            "\tText : 4,  Entity : CARDINAL\n",
            "\tText : first,  Entity : ORDINAL\n",
            "\tText : 56,  Entity : CARDINAL\n",
            "\tText : Covid,  Entity : PERSON\n",
            "\tText : one,  Entity : CARDINAL\n",
            "\tText : Prot,  Entity : PERSON\n",
            "\tText : Pei-Yong Shi,  Entity : PERSON\n",
            "\tText : the Wuhan Institute of Virology,  Entity : ORG\n",
            "\tText : 30,94,48,585,  Entity : CARDINAL\n",
            "\tText : up to 12 May, 2021,  Entity : DATE\n",
            "\tText : yesterday,  Entity : DATE\n",
            "\tText : India,  Entity : GPE\n",
            "\tText : 1bn,  Entity : MONEY\n",
            "\tText : SHIB,  Entity : PERSON\n",
            "\tText : EidMubarak,  Entity : PERSON\n",
            "\tText : Muslim,  Entity : NORP\n",
            "\tText : GGSMC Faridkot,  Entity : ORG\n",
            "\tText : today,  Entity : DATE\n",
            "\tText : SHIB,  Entity : PERSON\n",
            "\tText : SHIB,  Entity : PERSON\n",
            "\tText : India,  Entity : GPE\n",
            "\tText : Karnataka High Court#KarnatakaHighCourt,  Entity : GPE\n",
            "\tText : my personal research &amp,  Entity : ORG\n",
            "\tText : IndianArmy,  Entity : PERSON\n",
            "\tText : Hemant Gupta,  Entity : PERSON\n",
            "\tText : Gupta,  Entity : PERSON\n",
            "\tText : 18.5,  Entity : CARDINAL\n",
            "\tText : Bhubaneswar,  Entity : PERSON\n",
            "\tText : 18.5,  Entity : CARDINAL\n",
            "\tText : Indians,  Entity : NORP\n",
            "\tText : 18-44,  Entity : DATE\n",
            "\tText : COVID19,  Entity : PERSON\n",
            "\tText : INZ,  Entity : ORG\n",
            "\tText : NEEDEDSunshine Hospital,  Entity : ORG\n",
            "\tText : Masjid Javeed,  Entity : PERSON\n",
            "\tText : Anna Nagar,  Entity : PERSON\n",
            "\tText : Chennai,  Entity : GPE\n",
            "\tText : COVID19,  Entity : PERSON\n",
            "\tText : Covid,  Entity : PRODUCT\n",
            "\tText : East Clare,  Entity : GPE\n",
            "\tText : COV,  Entity : PERSON\n",
            "\tText : 2014,  Entity : DATE\n",
            "\tText : the Matrix M,  Entity : FAC\n",
            "\tText : NVAX,  Entity : MONEY\n",
            "\tText : India,  Entity : GPE\n",
            "\tText : more than 3.5,  Entity : CARDINAL\n",
            "\tText : 3,52,181,  Entity : CARDINAL\n",
            "\tText : the last 24 hours,  Entity : TIME\n",
            "\tText : Vaccine,  Entity : PRODUCT\n",
            "\tText : Arm,  Entity : PERSON\n",
            "\tText : FAVICOVID,  Entity : ORG\n",
            "\tText : 400mg,  Entity : PRODUCT\n",
            "\tText : Stock,  Entity : ORG\n",
            "\tText : today,  Entity : DATE\n",
            "\tText : 11:30,  Entity : TIME\n",
            "\tText : Tokyo,  Entity : GPE\n",
            "\tText : 13,  Entity : CARDINAL\n",
            "\tText : 12 million,  Entity : CARDINAL\n",
            "\tText : 14,  Entity : CARDINAL\n",
            "\tText : four,  Entity : CARDINAL\n",
            "\tText : EidCelebrations,  Entity : PERSON\n",
            "\tText : Eidi,  Entity : ORG\n",
            "\tText : every year,  Entity : DATE\n",
            "\tText : this year,  Entity : DATE\n",
            "\tText : India,  Entity : GPE\n",
            "\tText : Apocalypse -,  Entity : PERSON\n",
            "\tText : India,  Entity : GPE\n",
            "\tText : 1943,  Entity : DATE\n",
            "\tText : GoVaccinesGo,  Entity : MONEY\n",
            "\tText : Goa,  Entity : PERSON\n",
            "\tText : OxygenShortage,  Entity : PERSON\n",
            "\tText : three,  Entity : CARDINAL\n",
            "\tText : Fiji,  Entity : GPE\n",
            "\tText : today,  Entity : DATE\n",
            "\tText : four,  Entity : CARDINAL\n",
            "\tText : FijiNews,  Entity : MONEY\n",
            "\tText : Chandrachud,  Entity : PERSON\n",
            "\tText : the #power &amp,  Entity : ORG\n",
            "\tText : five transformati,  Entity : QUANTITY\n",
            "\tText : Lets,  Entity : PERSON\n",
            "\tText : ₹5,000 per month,  Entity : GPE\n",
            "\tText : COVID19,  Entity : MONEY\n",
            "\tText : Govt,  Entity : ORG\n",
            "\tText : Hemant Gupta,  Entity : PERSON\n",
            "\tText : Gupta,  Entity : PERSON\n",
            "\tText : GhaziabadNeed,  Entity : PERSON\n",
            "\tText : A-positiveAt,  Entity : PRODUCT\n",
            "\tText : Sarvodaya Blood Component,  Entity : ORG\n",
            "\tText : Hindupur,  Entity : ORG\n",
            "\tText : 20,  Entity : CARDINAL\n",
            "\tText : Hyderabad,  Entity : GPE\n",
            "\tText : Wu &amp,  Entity : PERSON\n",
            "\tText : COVID19,  Entity : MONEY\n",
            "\tText : Taiwan &amp,  Entity : ORG\n",
            "\tText : Guatemala,  Entity : MONEY\n",
            "\tText : syndrome &amp,  Entity : ORG\n",
            "\tText : Fibromyalgia,  Entity : PERSON\n",
            "\tText : Hindupur,  Entity : ORG\n",
            "\tText : 20,  Entity : CARDINAL\n",
            "\tText : Hyderabad,  Entity : GPE\n"
          ]
        },
        {
          "data": {
            "text/plain": [
              "0       [None, None, None, None]\n",
              "1                             []\n",
              "2     [None, None, None, None, ]\n",
              "3             [None, None, None]\n",
              "4             [None, None, None]\n",
              "                 ...            \n",
              "95            [None, None, None]\n",
              "96      [None, None, None, None]\n",
              "97                            []\n",
              "98                  [None, None]\n",
              "99            [None, None, None]\n",
              "Name: text, Length: 100, dtype: object"
            ]
          },
          "execution_count": 21,
          "metadata": {
            "tags": []
          },
          "output_type": "execute_result"
        }
      ],
      "source": [
        "#getting entities from text\n",
        "tweet_df['text'].apply(lambda x: [print(\"\\tText : {},  Entity : {}\".format(ent.text, ent.label_)) if (not ent.text.startswith('#')) else \"\"  for ent in nlp(x).ents])"
      ]
    },
    {
      "cell_type": "code",
      "execution_count": null,
      "metadata": {
        "id": "65GnQEWNsXYI"
      },
      "outputs": [],
      "source": [
        "#assigning entitties into dataframe\n",
        "\n",
        "tweet_df['entities']  = tweet_df['text'].apply(lambda x: [(ent.text, ent.label_) if (not ent.text.startswith('#')) else \"\" for ent in nlp(x).ents])"
      ]
    },
    {
      "cell_type": "code",
      "execution_count": null,
      "metadata": {
        "colab": {
          "base_uri": "https://localhost:8080/",
          "height": 289
        },
        "id": "uljKlvImaeZz",
        "outputId": "d03b33f9-0f6f-4503-bfb4-958bfdbf67a2"
      },
      "outputs": [
        {
          "data": {
            "text/html": [
              "<div>\n",
              "<style scoped>\n",
              "    .dataframe tbody tr th:only-of-type {\n",
              "        vertical-align: middle;\n",
              "    }\n",
              "\n",
              "    .dataframe tbody tr th {\n",
              "        vertical-align: top;\n",
              "    }\n",
              "\n",
              "    .dataframe thead th {\n",
              "        text-align: right;\n",
              "    }\n",
              "</style>\n",
              "<table border=\"1\" class=\"dataframe\">\n",
              "  <thead>\n",
              "    <tr style=\"text-align: right;\">\n",
              "      <th></th>\n",
              "      <th>text</th>\n",
              "      <th>user</th>\n",
              "      <th>location</th>\n",
              "      <th>Device</th>\n",
              "      <th>entities</th>\n",
              "    </tr>\n",
              "  </thead>\n",
              "  <tbody>\n",
              "    <tr>\n",
              "      <th>0</th>\n",
              "      <td>Since childhood, we enthusiastically wait for #EidCelebrations and Eidi every year. But this year, amid #COVID19 for well…</td>\n",
              "      <td>RohitKu10100420</td>\n",
              "      <td></td>\n",
              "      <td>Twitter for Android</td>\n",
              "      <td>[(EidCelebrations, PERSON), (Eidi, ORG), (every year, DATE), (this year, DATE)]</td>\n",
              "    </tr>\n",
              "    <tr>\n",
              "      <th>1</th>\n",
              "      <td>#InternationalNursesDay Our gesture of appreciation to our unsung heroes, our Nurses who are working mechanically da…</td>\n",
              "      <td>JASVIRS29320775</td>\n",
              "      <td></td>\n",
              "      <td>Twitter for Android</td>\n",
              "      <td>[]</td>\n",
              "    </tr>\n",
              "    <tr>\n",
              "      <th>2</th>\n",
              "      <td>Fiji has had 165 cases, 109 recoveries and 4 deaths.  - Dr.  #FijiNews #COVID19Fiji #COVID19</td>\n",
              "      <td>itsjustlido_xo</td>\n",
              "      <td></td>\n",
              "      <td>Twitter for iPhone</td>\n",
              "      <td>[(Fiji, GPE), (165, CARDINAL), (109, CARDINAL), (4, CARDINAL), ]</td>\n",
              "    </tr>\n",
              "    <tr>\n",
              "      <th>3</th>\n",
              "      <td>Free Oxygen cylinder service for #COVID19 patients who cannot afford it.WhatsApp: 9330058908#COVIDEmergency #KolkataCovidR…</td>\n",
              "      <td>YashianBarnali</td>\n",
              "      <td>Tarakeswar, India</td>\n",
              "      <td>Twitter for Android</td>\n",
              "      <td>[(Free Oxygen, ORG), (WhatsApp, ORG), (KolkataCovidR, PERSON)]</td>\n",
              "    </tr>\n",
              "    <tr>\n",
              "      <th>4</th>\n",
              "      <td>1. Interesting presentation to ACIP on cases of TTS following J&amp;amp;J's #Covid19 vaccine. TTS = thrombosis with thrombocyto…</td>\n",
              "      <td>Toetterbeck</td>\n",
              "      <td>After 40 years away now FRG</td>\n",
              "      <td>Twitter for iPhone</td>\n",
              "      <td>[(1, CARDINAL), (J&amp;amp;J, PERSON), (TTS, ORG)]</td>\n",
              "    </tr>\n",
              "  </tbody>\n",
              "</table>\n",
              "</div>"
            ],
            "text/plain": [
              "                                                                                                                            text  ...                                                                         entities\n",
              "0     Since childhood, we enthusiastically wait for #EidCelebrations and Eidi every year. But this year, amid #COVID19 for well…  ...  [(EidCelebrations, PERSON), (Eidi, ORG), (every year, DATE), (this year, DATE)]\n",
              "1          #InternationalNursesDay Our gesture of appreciation to our unsung heroes, our Nurses who are working mechanically da…  ...                                                                               []\n",
              "2                                   Fiji has had 165 cases, 109 recoveries and 4 deaths.  - Dr.  #FijiNews #COVID19Fiji #COVID19  ...                 [(Fiji, GPE), (165, CARDINAL), (109, CARDINAL), (4, CARDINAL), ]\n",
              "3    Free Oxygen cylinder service for #COVID19 patients who cannot afford it.WhatsApp: 9330058908#COVIDEmergency #KolkataCovidR…  ...                   [(Free Oxygen, ORG), (WhatsApp, ORG), (KolkataCovidR, PERSON)]\n",
              "4   1. Interesting presentation to ACIP on cases of TTS following J&amp;J's #Covid19 vaccine. TTS = thrombosis with thrombocyto…  ...                                   [(1, CARDINAL), (J&amp;J, PERSON), (TTS, ORG)]\n",
              "\n",
              "[5 rows x 5 columns]"
            ]
          },
          "execution_count": 23,
          "metadata": {
            "tags": []
          },
          "output_type": "execute_result"
        }
      ],
      "source": [
        "pd.set_option('max_colwidth',800)\n",
        "\n",
        "tweet_df.head(5)"
      ]
    },
    {
      "cell_type": "code",
      "execution_count": null,
      "metadata": {
        "colab": {
          "base_uri": "https://localhost:8080/"
        },
        "id": "I9GPD6OFfPEJ",
        "outputId": "ef2c2321-7d22-440f-e4e8-5b5e010ebc00"
      },
      "outputs": [
        {
          "name": "stdout",
          "output_type": "stream",
          "text": [
            "[nltk_data] Downloading package vader_lexicon to /root/nltk_data...\n"
          ]
        },
        {
          "name": "stderr",
          "output_type": "stream",
          "text": [
            "/usr/local/lib/python3.7/dist-packages/nltk/twitter/__init__.py:20: UserWarning: The twython library has not been installed. Some functionality from the twitter package will not be available.\n",
            "  warnings.warn(\"The twython library has not been installed. \"\n"
          ]
        },
        {
          "data": {
            "text/plain": [
              "True"
            ]
          },
          "execution_count": 24,
          "metadata": {
            "tags": []
          },
          "output_type": "execute_result"
        }
      ],
      "source": [
        "#importing SentimentIntensityAnalyzer for sentiment\n",
        "import nltk\n",
        "\n",
        "from nltk.sentiment.vader import SentimentIntensityAnalyzer\n",
        "\n",
        "nltk.download('vader_lexicon')"
      ]
    },
    {
      "cell_type": "code",
      "execution_count": null,
      "metadata": {
        "id": "E5uf78ExfT8a"
      },
      "outputs": [],
      "source": [
        "#loading object\n",
        "sid = SentimentIntensityAnalyzer()"
      ]
    },
    {
      "cell_type": "code",
      "execution_count": null,
      "metadata": {
        "id": "rqP9TZGwfTqc"
      },
      "outputs": [],
      "source": [
        "#applying on new sentiment column \n",
        "tweet_df['sentiment'] = tweet_df['text'].apply(lambda x: sid.polarity_scores(x))"
      ]
    },
    {
      "cell_type": "code",
      "execution_count": null,
      "metadata": {
        "colab": {
          "base_uri": "https://localhost:8080/",
          "height": 374
        },
        "id": "5iWM7R_wiEd6",
        "outputId": "06e69436-4413-43a5-b622-4558174814fc"
      },
      "outputs": [
        {
          "data": {
            "text/html": [
              "<div>\n",
              "<style scoped>\n",
              "    .dataframe tbody tr th:only-of-type {\n",
              "        vertical-align: middle;\n",
              "    }\n",
              "\n",
              "    .dataframe tbody tr th {\n",
              "        vertical-align: top;\n",
              "    }\n",
              "\n",
              "    .dataframe thead th {\n",
              "        text-align: right;\n",
              "    }\n",
              "</style>\n",
              "<table border=\"1\" class=\"dataframe\">\n",
              "  <thead>\n",
              "    <tr style=\"text-align: right;\">\n",
              "      <th></th>\n",
              "      <th>text</th>\n",
              "      <th>user</th>\n",
              "      <th>location</th>\n",
              "      <th>Device</th>\n",
              "      <th>entities</th>\n",
              "      <th>sentiment</th>\n",
              "    </tr>\n",
              "  </thead>\n",
              "  <tbody>\n",
              "    <tr>\n",
              "      <th>0</th>\n",
              "      <td>Since childhood, we enthusiastically wait for #EidCelebrations and Eidi every year. But this year, amid #COVID19 for well…</td>\n",
              "      <td>RohitKu10100420</td>\n",
              "      <td></td>\n",
              "      <td>Twitter for Android</td>\n",
              "      <td>[(EidCelebrations, PERSON), (Eidi, ORG), (every year, DATE), (this year, DATE)]</td>\n",
              "      <td>{'neg': 0.0, 'neu': 0.825, 'pos': 0.175, 'compound': 0.5574}</td>\n",
              "    </tr>\n",
              "    <tr>\n",
              "      <th>1</th>\n",
              "      <td>#InternationalNursesDay Our gesture of appreciation to our unsung heroes, our Nurses who are working mechanically da…</td>\n",
              "      <td>JASVIRS29320775</td>\n",
              "      <td></td>\n",
              "      <td>Twitter for Android</td>\n",
              "      <td>[]</td>\n",
              "      <td>{'neg': 0.0, 'neu': 0.68, 'pos': 0.32, 'compound': 0.765}</td>\n",
              "    </tr>\n",
              "    <tr>\n",
              "      <th>2</th>\n",
              "      <td>Fiji has had 165 cases, 109 recoveries and 4 deaths.  - Dr.  #FijiNews #COVID19Fiji #COVID19</td>\n",
              "      <td>itsjustlido_xo</td>\n",
              "      <td></td>\n",
              "      <td>Twitter for iPhone</td>\n",
              "      <td>[(Fiji, GPE), (165, CARDINAL), (109, CARDINAL), (4, CARDINAL), ]</td>\n",
              "      <td>{'neg': 0.0, 'neu': 1.0, 'pos': 0.0, 'compound': 0.0}</td>\n",
              "    </tr>\n",
              "    <tr>\n",
              "      <th>3</th>\n",
              "      <td>Free Oxygen cylinder service for #COVID19 patients who cannot afford it.WhatsApp: 9330058908#COVIDEmergency #KolkataCovidR…</td>\n",
              "      <td>YashianBarnali</td>\n",
              "      <td>Tarakeswar, India</td>\n",
              "      <td>Twitter for Android</td>\n",
              "      <td>[(Free Oxygen, ORG), (WhatsApp, ORG), (KolkataCovidR, PERSON)]</td>\n",
              "      <td>{'neg': 0.0, 'neu': 0.784, 'pos': 0.216, 'compound': 0.5106}</td>\n",
              "    </tr>\n",
              "    <tr>\n",
              "      <th>4</th>\n",
              "      <td>1. Interesting presentation to ACIP on cases of TTS following J&amp;amp;J's #Covid19 vaccine. TTS = thrombosis with thrombocyto…</td>\n",
              "      <td>Toetterbeck</td>\n",
              "      <td>After 40 years away now FRG</td>\n",
              "      <td>Twitter for iPhone</td>\n",
              "      <td>[(1, CARDINAL), (J&amp;amp;J, PERSON), (TTS, ORG)]</td>\n",
              "      <td>{'neg': 0.0, 'neu': 0.856, 'pos': 0.144, 'compound': 0.4019}</td>\n",
              "    </tr>\n",
              "  </tbody>\n",
              "</table>\n",
              "</div>"
            ],
            "text/plain": [
              "                                                                                                                            text  ...                                                     sentiment\n",
              "0     Since childhood, we enthusiastically wait for #EidCelebrations and Eidi every year. But this year, amid #COVID19 for well…  ...  {'neg': 0.0, 'neu': 0.825, 'pos': 0.175, 'compound': 0.5574}\n",
              "1          #InternationalNursesDay Our gesture of appreciation to our unsung heroes, our Nurses who are working mechanically da…  ...     {'neg': 0.0, 'neu': 0.68, 'pos': 0.32, 'compound': 0.765}\n",
              "2                                   Fiji has had 165 cases, 109 recoveries and 4 deaths.  - Dr.  #FijiNews #COVID19Fiji #COVID19  ...         {'neg': 0.0, 'neu': 1.0, 'pos': 0.0, 'compound': 0.0}\n",
              "3    Free Oxygen cylinder service for #COVID19 patients who cannot afford it.WhatsApp: 9330058908#COVIDEmergency #KolkataCovidR…  ...  {'neg': 0.0, 'neu': 0.784, 'pos': 0.216, 'compound': 0.5106}\n",
              "4   1. Interesting presentation to ACIP on cases of TTS following J&amp;J's #Covid19 vaccine. TTS = thrombosis with thrombocyto…  ...  {'neg': 0.0, 'neu': 0.856, 'pos': 0.144, 'compound': 0.4019}\n",
              "\n",
              "[5 rows x 6 columns]"
            ]
          },
          "execution_count": 27,
          "metadata": {
            "tags": []
          },
          "output_type": "execute_result"
        }
      ],
      "source": [
        "pd.set_option('max_colwidth',800)\n",
        "\n",
        "tweet_df.head(5)"
      ]
    },
    {
      "cell_type": "code",
      "execution_count": null,
      "metadata": {
        "id": "b6YUuZwEaymR"
      },
      "outputs": [],
      "source": [
        "#extracting compound score in new column compound\n",
        "tweet_df['compound']  = tweet_df['sentiment'].apply(lambda score_dict: score_dict['compound'])"
      ]
    },
    {
      "cell_type": "code",
      "execution_count": null,
      "metadata": {
        "colab": {
          "base_uri": "https://localhost:8080/",
          "height": 374
        },
        "id": "VmInoTVL11uJ",
        "outputId": "6fef8997-20a1-4d04-dc3c-da2b0f363b0e"
      },
      "outputs": [
        {
          "data": {
            "text/html": [
              "<div>\n",
              "<style scoped>\n",
              "    .dataframe tbody tr th:only-of-type {\n",
              "        vertical-align: middle;\n",
              "    }\n",
              "\n",
              "    .dataframe tbody tr th {\n",
              "        vertical-align: top;\n",
              "    }\n",
              "\n",
              "    .dataframe thead th {\n",
              "        text-align: right;\n",
              "    }\n",
              "</style>\n",
              "<table border=\"1\" class=\"dataframe\">\n",
              "  <thead>\n",
              "    <tr style=\"text-align: right;\">\n",
              "      <th></th>\n",
              "      <th>text</th>\n",
              "      <th>user</th>\n",
              "      <th>location</th>\n",
              "      <th>Device</th>\n",
              "      <th>entities</th>\n",
              "      <th>sentiment</th>\n",
              "      <th>compound</th>\n",
              "    </tr>\n",
              "  </thead>\n",
              "  <tbody>\n",
              "    <tr>\n",
              "      <th>0</th>\n",
              "      <td>Since childhood, we enthusiastically wait for #EidCelebrations and Eidi every year. But this year, amid #COVID19 for well…</td>\n",
              "      <td>RohitKu10100420</td>\n",
              "      <td></td>\n",
              "      <td>Twitter for Android</td>\n",
              "      <td>[(EidCelebrations, PERSON), (Eidi, ORG), (every year, DATE), (this year, DATE)]</td>\n",
              "      <td>{'neg': 0.0, 'neu': 0.825, 'pos': 0.175, 'compound': 0.5574}</td>\n",
              "      <td>0.5574</td>\n",
              "    </tr>\n",
              "    <tr>\n",
              "      <th>1</th>\n",
              "      <td>#InternationalNursesDay Our gesture of appreciation to our unsung heroes, our Nurses who are working mechanically da…</td>\n",
              "      <td>JASVIRS29320775</td>\n",
              "      <td></td>\n",
              "      <td>Twitter for Android</td>\n",
              "      <td>[]</td>\n",
              "      <td>{'neg': 0.0, 'neu': 0.68, 'pos': 0.32, 'compound': 0.765}</td>\n",
              "      <td>0.7650</td>\n",
              "    </tr>\n",
              "    <tr>\n",
              "      <th>2</th>\n",
              "      <td>Fiji has had 165 cases, 109 recoveries and 4 deaths.  - Dr.  #FijiNews #COVID19Fiji #COVID19</td>\n",
              "      <td>itsjustlido_xo</td>\n",
              "      <td></td>\n",
              "      <td>Twitter for iPhone</td>\n",
              "      <td>[(Fiji, GPE), (165, CARDINAL), (109, CARDINAL), (4, CARDINAL), ]</td>\n",
              "      <td>{'neg': 0.0, 'neu': 1.0, 'pos': 0.0, 'compound': 0.0}</td>\n",
              "      <td>0.0000</td>\n",
              "    </tr>\n",
              "    <tr>\n",
              "      <th>3</th>\n",
              "      <td>Free Oxygen cylinder service for #COVID19 patients who cannot afford it.WhatsApp: 9330058908#COVIDEmergency #KolkataCovidR…</td>\n",
              "      <td>YashianBarnali</td>\n",
              "      <td>Tarakeswar, India</td>\n",
              "      <td>Twitter for Android</td>\n",
              "      <td>[(Free Oxygen, ORG), (WhatsApp, ORG), (KolkataCovidR, PERSON)]</td>\n",
              "      <td>{'neg': 0.0, 'neu': 0.784, 'pos': 0.216, 'compound': 0.5106}</td>\n",
              "      <td>0.5106</td>\n",
              "    </tr>\n",
              "    <tr>\n",
              "      <th>4</th>\n",
              "      <td>1. Interesting presentation to ACIP on cases of TTS following J&amp;amp;J's #Covid19 vaccine. TTS = thrombosis with thrombocyto…</td>\n",
              "      <td>Toetterbeck</td>\n",
              "      <td>After 40 years away now FRG</td>\n",
              "      <td>Twitter for iPhone</td>\n",
              "      <td>[(1, CARDINAL), (J&amp;amp;J, PERSON), (TTS, ORG)]</td>\n",
              "      <td>{'neg': 0.0, 'neu': 0.856, 'pos': 0.144, 'compound': 0.4019}</td>\n",
              "      <td>0.4019</td>\n",
              "    </tr>\n",
              "  </tbody>\n",
              "</table>\n",
              "</div>"
            ],
            "text/plain": [
              "                                                                                                                            text  ... compound\n",
              "0     Since childhood, we enthusiastically wait for #EidCelebrations and Eidi every year. But this year, amid #COVID19 for well…  ...   0.5574\n",
              "1          #InternationalNursesDay Our gesture of appreciation to our unsung heroes, our Nurses who are working mechanically da…  ...   0.7650\n",
              "2                                   Fiji has had 165 cases, 109 recoveries and 4 deaths.  - Dr.  #FijiNews #COVID19Fiji #COVID19  ...   0.0000\n",
              "3    Free Oxygen cylinder service for #COVID19 patients who cannot afford it.WhatsApp: 9330058908#COVIDEmergency #KolkataCovidR…  ...   0.5106\n",
              "4   1. Interesting presentation to ACIP on cases of TTS following J&amp;J's #Covid19 vaccine. TTS = thrombosis with thrombocyto…  ...   0.4019\n",
              "\n",
              "[5 rows x 7 columns]"
            ]
          },
          "execution_count": 29,
          "metadata": {
            "tags": []
          },
          "output_type": "execute_result"
        }
      ],
      "source": [
        "tweet_df.head(5)"
      ]
    },
    {
      "cell_type": "code",
      "execution_count": null,
      "metadata": {
        "id": "iCDr6ZiD5_jt"
      },
      "outputs": [],
      "source": [
        "tweet_df['comp_score'] = tweet_df['compound'].apply(lambda c: 'neu' if c ==0.5 else ('pos' if c>=0.5 else 'neg'))"
      ]
    },
    {
      "cell_type": "code",
      "execution_count": null,
      "metadata": {
        "colab": {
          "base_uri": "https://localhost:8080/",
          "height": 374
        },
        "id": "ZgTm2rtDayqB",
        "outputId": "93ff25aa-23c5-4c18-8bdb-c8944ee0b166"
      },
      "outputs": [
        {
          "data": {
            "text/html": [
              "<div>\n",
              "<style scoped>\n",
              "    .dataframe tbody tr th:only-of-type {\n",
              "        vertical-align: middle;\n",
              "    }\n",
              "\n",
              "    .dataframe tbody tr th {\n",
              "        vertical-align: top;\n",
              "    }\n",
              "\n",
              "    .dataframe thead th {\n",
              "        text-align: right;\n",
              "    }\n",
              "</style>\n",
              "<table border=\"1\" class=\"dataframe\">\n",
              "  <thead>\n",
              "    <tr style=\"text-align: right;\">\n",
              "      <th></th>\n",
              "      <th>text</th>\n",
              "      <th>user</th>\n",
              "      <th>location</th>\n",
              "      <th>Device</th>\n",
              "      <th>entities</th>\n",
              "      <th>sentiment</th>\n",
              "      <th>compound</th>\n",
              "      <th>comp_score</th>\n",
              "    </tr>\n",
              "  </thead>\n",
              "  <tbody>\n",
              "    <tr>\n",
              "      <th>0</th>\n",
              "      <td>Since childhood, we enthusiastically wait for #EidCelebrations and Eidi every year. But this year, amid #COVID19 for well…</td>\n",
              "      <td>RohitKu10100420</td>\n",
              "      <td></td>\n",
              "      <td>Twitter for Android</td>\n",
              "      <td>[(EidCelebrations, PERSON), (Eidi, ORG), (every year, DATE), (this year, DATE)]</td>\n",
              "      <td>{'neg': 0.0, 'neu': 0.825, 'pos': 0.175, 'compound': 0.5574}</td>\n",
              "      <td>0.5574</td>\n",
              "      <td>pos</td>\n",
              "    </tr>\n",
              "    <tr>\n",
              "      <th>1</th>\n",
              "      <td>#InternationalNursesDay Our gesture of appreciation to our unsung heroes, our Nurses who are working mechanically da…</td>\n",
              "      <td>JASVIRS29320775</td>\n",
              "      <td></td>\n",
              "      <td>Twitter for Android</td>\n",
              "      <td>[]</td>\n",
              "      <td>{'neg': 0.0, 'neu': 0.68, 'pos': 0.32, 'compound': 0.765}</td>\n",
              "      <td>0.7650</td>\n",
              "      <td>pos</td>\n",
              "    </tr>\n",
              "    <tr>\n",
              "      <th>2</th>\n",
              "      <td>Fiji has had 165 cases, 109 recoveries and 4 deaths.  - Dr.  #FijiNews #COVID19Fiji #COVID19</td>\n",
              "      <td>itsjustlido_xo</td>\n",
              "      <td></td>\n",
              "      <td>Twitter for iPhone</td>\n",
              "      <td>[(Fiji, GPE), (165, CARDINAL), (109, CARDINAL), (4, CARDINAL), ]</td>\n",
              "      <td>{'neg': 0.0, 'neu': 1.0, 'pos': 0.0, 'compound': 0.0}</td>\n",
              "      <td>0.0000</td>\n",
              "      <td>neg</td>\n",
              "    </tr>\n",
              "    <tr>\n",
              "      <th>3</th>\n",
              "      <td>Free Oxygen cylinder service for #COVID19 patients who cannot afford it.WhatsApp: 9330058908#COVIDEmergency #KolkataCovidR…</td>\n",
              "      <td>YashianBarnali</td>\n",
              "      <td>Tarakeswar, India</td>\n",
              "      <td>Twitter for Android</td>\n",
              "      <td>[(Free Oxygen, ORG), (WhatsApp, ORG), (KolkataCovidR, PERSON)]</td>\n",
              "      <td>{'neg': 0.0, 'neu': 0.784, 'pos': 0.216, 'compound': 0.5106}</td>\n",
              "      <td>0.5106</td>\n",
              "      <td>pos</td>\n",
              "    </tr>\n",
              "    <tr>\n",
              "      <th>4</th>\n",
              "      <td>1. Interesting presentation to ACIP on cases of TTS following J&amp;amp;J's #Covid19 vaccine. TTS = thrombosis with thrombocyto…</td>\n",
              "      <td>Toetterbeck</td>\n",
              "      <td>After 40 years away now FRG</td>\n",
              "      <td>Twitter for iPhone</td>\n",
              "      <td>[(1, CARDINAL), (J&amp;amp;J, PERSON), (TTS, ORG)]</td>\n",
              "      <td>{'neg': 0.0, 'neu': 0.856, 'pos': 0.144, 'compound': 0.4019}</td>\n",
              "      <td>0.4019</td>\n",
              "      <td>neg</td>\n",
              "    </tr>\n",
              "  </tbody>\n",
              "</table>\n",
              "</div>"
            ],
            "text/plain": [
              "                                                                                                                            text  ... comp_score\n",
              "0     Since childhood, we enthusiastically wait for #EidCelebrations and Eidi every year. But this year, amid #COVID19 for well…  ...        pos\n",
              "1          #InternationalNursesDay Our gesture of appreciation to our unsung heroes, our Nurses who are working mechanically da…  ...        pos\n",
              "2                                   Fiji has had 165 cases, 109 recoveries and 4 deaths.  - Dr.  #FijiNews #COVID19Fiji #COVID19  ...        neg\n",
              "3    Free Oxygen cylinder service for #COVID19 patients who cannot afford it.WhatsApp: 9330058908#COVIDEmergency #KolkataCovidR…  ...        pos\n",
              "4   1. Interesting presentation to ACIP on cases of TTS following J&amp;J's #Covid19 vaccine. TTS = thrombosis with thrombocyto…  ...        neg\n",
              "\n",
              "[5 rows x 8 columns]"
            ]
          },
          "execution_count": 31,
          "metadata": {
            "tags": []
          },
          "output_type": "execute_result"
        }
      ],
      "source": [
        "#dividing neg or pos sentiment based on compound\n",
        "#tweet_df['comp_score'] = tweet_df['compound'].apply(lambda c: 'pos' if c >=0.5 else 'neg')\n",
        "\n",
        "tweet_df.head(5)"
      ]
    },
    {
      "cell_type": "code",
      "execution_count": null,
      "metadata": {
        "colab": {
          "base_uri": "https://localhost:8080/"
        },
        "id": "YkX8mit2iEQ2",
        "outputId": "e626e947-3b19-4d39-b27a-de6e6eb77f97"
      },
      "outputs": [
        {
          "data": {
            "text/plain": [
              "neg    84\n",
              "pos    16\n",
              "Name: comp_score, dtype: int64"
            ]
          },
          "execution_count": 32,
          "metadata": {
            "tags": []
          },
          "output_type": "execute_result"
        }
      ],
      "source": [
        "#sentiment frequency\n",
        "tweet_df.comp_score.value_counts()"
      ]
    },
    {
      "cell_type": "code",
      "execution_count": null,
      "metadata": {
        "id": "32ziF6Un55Hb"
      },
      "outputs": [],
      "source": [
        "import matplotlib.pyplot as plt"
      ]
    },
    {
      "cell_type": "code",
      "execution_count": null,
      "metadata": {
        "colab": {
          "base_uri": "https://localhost:8080/",
          "height": 642
        },
        "id": "eillc4COjHii",
        "outputId": "aa611081-5422-4cb0-9b7e-8a38932cb366"
      },
      "outputs": [
        {
          "name": "stdout",
          "output_type": "stream",
          "text": [
            "neg    84\n",
            "pos    16\n",
            "Name: comp_score, dtype: int64\n"
          ]
        },
        {
          "data": {
            "image/png": "[encoded data removed]",
            "text/plain": [
              "<Figure size 720x720 with 1 Axes>"
            ]
          },
          "metadata": {
            "tags": []
          },
          "output_type": "display_data"
        }
      ],
      "source": [
        "# Create a data frame of adjudicated_gradable counts \n",
        "vc = tweet_df.comp_score.value_counts()\n",
        "print(vc)\n",
        "\n",
        "# Plot a pie chart\n",
        "\n",
        "vc.plot(kind='pie', title='#covid19 100tweets Sentiment ', colors = ['red','green'], figsize=(10,10)) \n",
        "\n",
        "plt.legend()\n",
        "plt.show()"
      ]
    },
    {
      "cell_type": "code",
      "execution_count": null,
      "metadata": {
        "id": "6H8XTM7cjHT4"
      },
      "outputs": [],
      "source": [
        "#import required packages\n",
        "import tweepy\n",
        "from wordcloud import WordCloud\n",
        "import matplotlib.pyplot as plt\n",
        "%matplotlib inline\n",
        "\n",
        "\n",
        "# #making a connection\n",
        "# auth = tw.OAuthHandler(apikey, apisecretkey)\n",
        "# auth.set_access_token(accesstoken, accesstokensecret)\n",
        "# api = tw.API(auth, wait_on_rate_limit=True)\n"
      ]
    },
    {
      "cell_type": "code",
      "execution_count": null,
      "metadata": {
        "id": "kVHWxOUmkUvf"
      },
      "outputs": [],
      "source": [
        "# #Define a search-for-tweets function\n",
        "\n",
        "# def tweetSearch(query, limit = 100, language = \"en\", remove = []):\n",
        "#     #Create an empty text holder\n",
        "#     text = \"\"\n",
        "#     for tweet in tweepy.Cursor(api.search, q=query, lang=language).items(limit):\n",
        "#         text += tweet.text.lower()\n",
        "\n",
        "#  #Create a list of words to be removed\n",
        "#     removeWords = [\"https\",\"co\"]\n",
        "#     removeWords += remove\n",
        "    \n",
        "#  #Replace the words that you would like to removed with an empty space.\n",
        "#     for word in removeWords:\n",
        "#         text = text.replace(word, \"\")\n",
        "    \n",
        "#  #returnclean text\n",
        "#     return text"
      ]
    },
    {
      "cell_type": "code",
      "execution_count": null,
      "metadata": {
        "colab": {
          "base_uri": "https://localhost:8080/"
        },
        "id": "wZI98xqcuWmt",
        "outputId": "62e5d008-ff36-4098-fd49-66e6d120f8a6"
      },
      "outputs": [
        {
          "name": "stdout",
          "output_type": "stream",
          "text": [
            "There are 11397 words in the combination of all review.\n"
          ]
        }
      ],
      "source": [
        "text = \" \".join(review for review in tweet_df.text)\n",
        "print (\"There are {} words in the combination of all review.\".format(len(text)))"
      ]
    },
    {
      "cell_type": "code",
      "execution_count": null,
      "metadata": {
        "id": "1fmsSTRlkUzN"
      },
      "outputs": [],
      "source": [
        "#search = tweetSearch(\"covid19\")\n",
        "wordcloud = WordCloud().generate(text)"
      ]
    },
    {
      "cell_type": "code",
      "execution_count": null,
      "metadata": {
        "colab": {
          "base_uri": "https://localhost:8080/"
        },
        "id": "fPQc0eS-8GZg",
        "outputId": "cef460de-a984-40f6-8222-7bb8c7f8e29b"
      },
      "outputs": [
        {
          "data": {
            "text/plain": [
              "<wordcloud.wordcloud.WordCloud at 0x7f9c4ff1b910>"
            ]
          },
          "execution_count": 50,
          "metadata": {
            "tags": []
          },
          "output_type": "execute_result"
        }
      ],
      "source": [
        "wordcloud"
      ]
    },
    {
      "cell_type": "code",
      "execution_count": null,
      "metadata": {
        "colab": {
          "base_uri": "https://localhost:8080/",
          "height": 357
        },
        "id": "u4fa06x8klq3",
        "outputId": "27064edb-d782-4810-f0e4-9aa7c86c20cc"
      },
      "outputs": [
        {
          "data": {
            "image/png": "[encoded data removed]",
            "text/plain": [
              "<Figure size 864x432 with 1 Axes>"
            ]
          },
          "metadata": {
            "needs_background": "light",
            "tags": []
          },
          "output_type": "display_data"
        }
      ],
      "source": [
        "plt.figure(figsize=(12,6))\n",
        "plt.imshow(wordcloud, interpolation='bilinear')\n",
        "plt.axis(\"off\")\n",
        "plt.show()\n",
        "#search = tweetSearch(\"pawankalyan\")"
      ]
    },
    {
      "cell_type": "code",
      "execution_count": null,
      "metadata": {
        "id": "fsoMXC0caCSF"
      },
      "outputs": [],
      "source": []
    }
  ],
  "metadata": {
    "accelerator": "GPU",
    "colab": {
      "provenance": []
    },
    "kernelspec": {
      "display_name": "Python 3.10.5 64-bit",
      "language": "python",
      "name": "python3"
    },
    "language_info": {
      "codemirror_mode": {
        "name": "ipython",
        "version": 3
      },
      "file_extension": ".py",
      "mimetype": "text/x-python",
      "name": "python",
      "nbconvert_exporter": "python",
      "pygments_lexer": "ipython3",
      "version": "3.10.5"
    },
    "vscode": {
      "interpreter": {
        "hash": "dd08a303dad491b85fae5df0eb91a0bcada0edef26710eb7f0d375e66fd93c87"
      }
    }
  },
  "nbformat": 4,
  "nbformat_minor": 0
}
